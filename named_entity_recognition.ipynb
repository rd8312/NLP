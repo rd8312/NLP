{
 "cells": [
  {
   "cell_type": "markdown",
   "id": "e8f5f168-1e6c-4a4a-9343-2c6b7e1a762a",
   "metadata": {},
   "source": [
    "# 命名實體標注(Named Entity Recognition, NER)"
   ]
  },
  {
   "cell_type": "code",
   "execution_count": 1,
   "id": "4fb46b10-8179-439a-852f-aa7b1db702f8",
   "metadata": {
    "tags": []
   },
   "outputs": [
    {
     "name": "stderr",
     "output_type": "stream",
     "text": [
      "C:\\Users\\a4022\\anaconda3\\envs\\gpu\\lib\\site-packages\\tqdm\\auto.py:21: TqdmWarning: IProgress not found. Please update jupyter and ipywidgets. See https://ipywidgets.readthedocs.io/en/stable/user_install.html\n",
      "  from .autonotebook import tqdm as notebook_tqdm\n"
     ]
    }
   ],
   "source": [
    "from transformers import pipeline"
   ]
  },
  {
   "cell_type": "code",
   "execution_count": 2,
   "id": "30eded61-3844-46f0-a746-c43427f2775d",
   "metadata": {
    "tags": []
   },
   "outputs": [
    {
     "name": "stderr",
     "output_type": "stream",
     "text": [
      "No model was supplied, defaulted to dbmdz/bert-large-cased-finetuned-conll03-english and revision f2482bf (https://huggingface.co/dbmdz/bert-large-cased-finetuned-conll03-english).\n",
      "Using a pipeline without specifying a model name and revision in production is not recommended.\n",
      "(…)conll03-english/resolve/main/config.json: 100%|█████████████████████████████████| 998/998 [00:00<00:00, 332kB/s]\n",
      "model.safetensors: 100%|██████████████████████████████████████████████████████| 1.33G/1.33G [00:58<00:00, 22.8MB/s]\n",
      "Some weights of the model checkpoint at dbmdz/bert-large-cased-finetuned-conll03-english were not used when initializing BertForTokenClassification: ['bert.pooler.dense.weight', 'bert.pooler.dense.bias']\n",
      "- This IS expected if you are initializing BertForTokenClassification from the checkpoint of a model trained on another task or with another architecture (e.g. initializing a BertForSequenceClassification model from a BertForPreTraining model).\n",
      "- This IS NOT expected if you are initializing BertForTokenClassification from the checkpoint of a model that you expect to be exactly identical (initializing a BertForSequenceClassification model from a BertForSequenceClassification model).\n",
      "(…)glish/resolve/main/tokenizer_config.json: 100%|██████████████████████████████| 60.0/60.0 [00:00<00:00, 30.0kB/s]\n",
      "(…)d-conll03-english/resolve/main/vocab.txt: 100%|███████████████████████████████| 213k/213k [00:00<00:00, 676kB/s]\n"
     ]
    }
   ],
   "source": [
    "nlp = pipeline(\"ner\")"
   ]
  },
  {
   "cell_type": "code",
   "execution_count": 3,
   "id": "54538f7f-840f-4569-888a-52f04f7e0412",
   "metadata": {
    "tags": []
   },
   "outputs": [
    {
     "data": {
      "text/html": [
       "<div>\n",
       "<style scoped>\n",
       "    .dataframe tbody tr th:only-of-type {\n",
       "        vertical-align: middle;\n",
       "    }\n",
       "\n",
       "    .dataframe tbody tr th {\n",
       "        vertical-align: top;\n",
       "    }\n",
       "\n",
       "    .dataframe thead th {\n",
       "        text-align: right;\n",
       "    }\n",
       "</style>\n",
       "<table border=\"1\" class=\"dataframe\">\n",
       "  <thead>\n",
       "    <tr style=\"text-align: right;\">\n",
       "      <th></th>\n",
       "      <th>entity</th>\n",
       "      <th>score</th>\n",
       "      <th>index</th>\n",
       "      <th>word</th>\n",
       "      <th>start</th>\n",
       "      <th>end</th>\n",
       "    </tr>\n",
       "  </thead>\n",
       "  <tbody>\n",
       "    <tr>\n",
       "      <th>0</th>\n",
       "      <td>I-ORG</td>\n",
       "      <td>0.999511</td>\n",
       "      <td>1</td>\n",
       "      <td>Hu</td>\n",
       "      <td>0</td>\n",
       "      <td>2</td>\n",
       "    </tr>\n",
       "    <tr>\n",
       "      <th>1</th>\n",
       "      <td>I-ORG</td>\n",
       "      <td>0.989597</td>\n",
       "      <td>2</td>\n",
       "      <td>##gging</td>\n",
       "      <td>2</td>\n",
       "      <td>7</td>\n",
       "    </tr>\n",
       "    <tr>\n",
       "      <th>2</th>\n",
       "      <td>I-ORG</td>\n",
       "      <td>0.997970</td>\n",
       "      <td>3</td>\n",
       "      <td>Face</td>\n",
       "      <td>8</td>\n",
       "      <td>12</td>\n",
       "    </tr>\n",
       "    <tr>\n",
       "      <th>3</th>\n",
       "      <td>I-ORG</td>\n",
       "      <td>0.999376</td>\n",
       "      <td>4</td>\n",
       "      <td>Inc</td>\n",
       "      <td>13</td>\n",
       "      <td>16</td>\n",
       "    </tr>\n",
       "    <tr>\n",
       "      <th>4</th>\n",
       "      <td>I-LOC</td>\n",
       "      <td>0.999341</td>\n",
       "      <td>11</td>\n",
       "      <td>New</td>\n",
       "      <td>40</td>\n",
       "      <td>43</td>\n",
       "    </tr>\n",
       "    <tr>\n",
       "      <th>5</th>\n",
       "      <td>I-LOC</td>\n",
       "      <td>0.999193</td>\n",
       "      <td>12</td>\n",
       "      <td>York</td>\n",
       "      <td>44</td>\n",
       "      <td>48</td>\n",
       "    </tr>\n",
       "    <tr>\n",
       "      <th>6</th>\n",
       "      <td>I-LOC</td>\n",
       "      <td>0.999341</td>\n",
       "      <td>13</td>\n",
       "      <td>City</td>\n",
       "      <td>49</td>\n",
       "      <td>53</td>\n",
       "    </tr>\n",
       "    <tr>\n",
       "      <th>7</th>\n",
       "      <td>I-LOC</td>\n",
       "      <td>0.986336</td>\n",
       "      <td>19</td>\n",
       "      <td>D</td>\n",
       "      <td>79</td>\n",
       "      <td>80</td>\n",
       "    </tr>\n",
       "    <tr>\n",
       "      <th>8</th>\n",
       "      <td>I-LOC</td>\n",
       "      <td>0.939624</td>\n",
       "      <td>20</td>\n",
       "      <td>##UM</td>\n",
       "      <td>80</td>\n",
       "      <td>82</td>\n",
       "    </tr>\n",
       "    <tr>\n",
       "      <th>9</th>\n",
       "      <td>I-LOC</td>\n",
       "      <td>0.912139</td>\n",
       "      <td>21</td>\n",
       "      <td>##BO</td>\n",
       "      <td>82</td>\n",
       "      <td>84</td>\n",
       "    </tr>\n",
       "    <tr>\n",
       "      <th>10</th>\n",
       "      <td>I-LOC</td>\n",
       "      <td>0.983919</td>\n",
       "      <td>29</td>\n",
       "      <td>Manhattan</td>\n",
       "      <td>113</td>\n",
       "      <td>122</td>\n",
       "    </tr>\n",
       "    <tr>\n",
       "      <th>11</th>\n",
       "      <td>I-LOC</td>\n",
       "      <td>0.992424</td>\n",
       "      <td>30</td>\n",
       "      <td>Bridge</td>\n",
       "      <td>123</td>\n",
       "      <td>129</td>\n",
       "    </tr>\n",
       "  </tbody>\n",
       "</table>\n",
       "</div>"
      ],
      "text/plain": [
       "   entity     score  index       word  start  end\n",
       "0   I-ORG  0.999511      1         Hu      0    2\n",
       "1   I-ORG  0.989597      2    ##gging      2    7\n",
       "2   I-ORG  0.997970      3       Face      8   12\n",
       "3   I-ORG  0.999376      4        Inc     13   16\n",
       "4   I-LOC  0.999341     11        New     40   43\n",
       "5   I-LOC  0.999193     12       York     44   48\n",
       "6   I-LOC  0.999341     13       City     49   53\n",
       "7   I-LOC  0.986336     19          D     79   80\n",
       "8   I-LOC  0.939624     20       ##UM     80   82\n",
       "9   I-LOC  0.912139     21       ##BO     82   84\n",
       "10  I-LOC  0.983919     29  Manhattan    113  122\n",
       "11  I-LOC  0.992424     30     Bridge    123  129"
      ]
     },
     "execution_count": 3,
     "metadata": {},
     "output_type": "execute_result"
    }
   ],
   "source": [
    "# 測試資料\n",
    "sequence = \"Hugging Face Inc. is a company based in New York City. \" \\\n",
    "           \"Its headquarters are in DUMBO, therefore very\" \\\n",
    "           \"close to the Manhattan Bridge.\"\n",
    "\n",
    "# 推測答案\n",
    "import pandas as pd\n",
    "df = pd.DataFrame(nlp(sequence))\n",
    "df"
   ]
  },
  {
   "cell_type": "code",
   "execution_count": 4,
   "id": "7c74c3a4-a2aa-41e1-b3a9-b516396e594f",
   "metadata": {
    "scrolled": true,
    "tags": []
   },
   "outputs": [
    {
     "data": {
      "text/plain": [
       "[{'entity': 'I-ORG',\n",
       "  'score': 0.9995109,\n",
       "  'index': 1,\n",
       "  'word': 'Hu',\n",
       "  'start': 0,\n",
       "  'end': 2},\n",
       " {'entity': 'I-ORG',\n",
       "  'score': 0.9895975,\n",
       "  'index': 2,\n",
       "  'word': '##gging',\n",
       "  'start': 2,\n",
       "  'end': 7},\n",
       " {'entity': 'I-ORG',\n",
       "  'score': 0.9979704,\n",
       "  'index': 3,\n",
       "  'word': 'Face',\n",
       "  'start': 8,\n",
       "  'end': 12},\n",
       " {'entity': 'I-ORG',\n",
       "  'score': 0.9993759,\n",
       "  'index': 4,\n",
       "  'word': 'Inc',\n",
       "  'start': 13,\n",
       "  'end': 16},\n",
       " {'entity': 'I-LOC',\n",
       "  'score': 0.9993406,\n",
       "  'index': 11,\n",
       "  'word': 'New',\n",
       "  'start': 40,\n",
       "  'end': 43},\n",
       " {'entity': 'I-LOC',\n",
       "  'score': 0.9991928,\n",
       "  'index': 12,\n",
       "  'word': 'York',\n",
       "  'start': 44,\n",
       "  'end': 48},\n",
       " {'entity': 'I-LOC',\n",
       "  'score': 0.9993411,\n",
       "  'index': 13,\n",
       "  'word': 'City',\n",
       "  'start': 49,\n",
       "  'end': 53},\n",
       " {'entity': 'I-LOC',\n",
       "  'score': 0.98633635,\n",
       "  'index': 19,\n",
       "  'word': 'D',\n",
       "  'start': 79,\n",
       "  'end': 80},\n",
       " {'entity': 'I-LOC',\n",
       "  'score': 0.9396239,\n",
       "  'index': 20,\n",
       "  'word': '##UM',\n",
       "  'start': 80,\n",
       "  'end': 82},\n",
       " {'entity': 'I-LOC',\n",
       "  'score': 0.91213864,\n",
       "  'index': 21,\n",
       "  'word': '##BO',\n",
       "  'start': 82,\n",
       "  'end': 84},\n",
       " {'entity': 'I-LOC',\n",
       "  'score': 0.98391896,\n",
       "  'index': 29,\n",
       "  'word': 'Manhattan',\n",
       "  'start': 113,\n",
       "  'end': 122},\n",
       " {'entity': 'I-LOC',\n",
       "  'score': 0.99242425,\n",
       "  'index': 30,\n",
       "  'word': 'Bridge',\n",
       "  'start': 123,\n",
       "  'end': 129}]"
      ]
     },
     "execution_count": 4,
     "metadata": {},
     "output_type": "execute_result"
    }
   ],
   "source": [
    "nlp(sequence)"
   ]
  },
  {
   "cell_type": "markdown",
   "id": "350e2e77-b0bf-45c3-b2b5-f47e0ee7d19e",
   "metadata": {},
   "source": [
    "# 結合Tokenizer"
   ]
  },
  {
   "cell_type": "code",
   "execution_count": 5,
   "id": "0deb5b29-362f-4da5-a65f-23d03d927d9b",
   "metadata": {
    "tags": []
   },
   "outputs": [
    {
     "name": "stderr",
     "output_type": "stream",
     "text": [
      "Some weights of the model checkpoint at dbmdz/bert-large-cased-finetuned-conll03-english were not used when initializing BertForTokenClassification: ['bert.pooler.dense.weight', 'bert.pooler.dense.bias']\n",
      "- This IS expected if you are initializing BertForTokenClassification from the checkpoint of a model trained on another task or with another architecture (e.g. initializing a BertForSequenceClassification model from a BertForPreTraining model).\n",
      "- This IS NOT expected if you are initializing BertForTokenClassification from the checkpoint of a model that you expect to be exactly identical (initializing a BertForSequenceClassification model from a BertForSequenceClassification model).\n",
      "(…)cased/resolve/main/tokenizer_config.json: 100%|██████████████████████████████| 29.0/29.0 [00:00<00:00, 14.5kB/s]\n",
      "(…)bert-base-cased/resolve/main/config.json: 100%|█████████████████████████████████| 570/570 [00:00<00:00, 189kB/s]\n",
      "(…)o/bert-base-cased/resolve/main/vocab.txt: 100%|███████████████████████████████| 213k/213k [00:00<00:00, 667kB/s]\n",
      "(…)t-base-cased/resolve/main/tokenizer.json: 100%|██████████████████████████████| 436k/436k [00:00<00:00, 1.69MB/s]\n"
     ]
    }
   ],
   "source": [
    "# 載入相關套件\n",
    "from transformers import AutoModelForTokenClassification, AutoTokenizer\n",
    "import torch\n",
    "\n",
    "# 結合分詞器(Tokenizer)\n",
    "model_name = \"dbmdz/bert-large-cased-finetuned-conll03-english\"\n",
    "model = AutoModelForTokenClassification.from_pretrained(model_name)\n",
    "tokenizer = AutoTokenizer.from_pretrained(\"bert-base-cased\")"
   ]
  },
  {
   "cell_type": "code",
   "execution_count": 6,
   "id": "16ff82ce-ec1a-4bec-ae62-3839a4e97f9a",
   "metadata": {
    "tags": []
   },
   "outputs": [
    {
     "name": "stdout",
     "output_type": "stream",
     "text": [
      "('[CLS]', 'O')\n",
      "('Hu', 'I-ORG')\n",
      "('##gging', 'I-ORG')\n",
      "('Face', 'I-ORG')\n",
      "('Inc', 'I-ORG')\n",
      "('.', 'O')\n",
      "('is', 'O')\n",
      "('a', 'O')\n",
      "('company', 'O')\n",
      "('based', 'O')\n",
      "('in', 'O')\n",
      "('New', 'I-LOC')\n",
      "('York', 'I-LOC')\n",
      "('City', 'I-LOC')\n",
      "('.', 'O')\n",
      "('Its', 'O')\n",
      "('headquarters', 'O')\n",
      "('are', 'O')\n",
      "('in', 'O')\n",
      "('D', 'I-LOC')\n",
      "('##UM', 'I-LOC')\n",
      "('##BO', 'I-LOC')\n",
      "(',', 'O')\n",
      "('therefore', 'O')\n",
      "('very', 'O')\n",
      "('##c', 'O')\n",
      "('##lose', 'O')\n",
      "('to', 'O')\n",
      "('the', 'O')\n",
      "('Manhattan', 'I-LOC')\n",
      "('Bridge', 'I-LOC')\n",
      "('.', 'O')\n",
      "('[SEP]', 'O')\n"
     ]
    }
   ],
   "source": [
    "# NER 類別 \n",
    "label_list = [\n",
    "    \"O\",       # 非實體\n",
    "    \"B-MISC\",  # 雜項實體的開頭，接在另一雜項實體的後面\n",
    "    \"I-MISC\",  # 雜項實體\n",
    "    \"B-PER\",   # 人名的開頭，接在另一人名的後面\n",
    "    \"I-PER\",   # 人名\n",
    "    \"B-ORG\",   # 組織的開頭，接在另一組織的後面\n",
    "    \"I-ORG\",   # 組織\n",
    "    \"B-LOC\",   # 地名的開頭，接在另一地名的後面\n",
    "    \"I-LOC\"    # 地名\n",
    "]\n",
    "\n",
    "# 測試資料\n",
    "sequence = \"Hugging Face Inc. is a company based in New York City. \" \\\n",
    "           \"Its headquarters are in DUMBO, therefore very\" \\\n",
    "           \"close to the Manhattan Bridge.\"\n",
    "\n",
    "# 推測答案\n",
    "inputs = tokenizer(sequence, return_tensors=\"pt\")\n",
    "tokens = inputs.tokens()\n",
    "\n",
    "outputs = model(**inputs).logits\n",
    "predictions = torch.argmax(outputs, dim=2)\n",
    "\n",
    "for token, prediction in zip(tokens, predictions[0].numpy()):\n",
    "    print((token, model.config.id2label[prediction]))"
   ]
  },
  {
   "cell_type": "code",
   "execution_count": null,
   "id": "5b83c801-477c-4d55-b7e9-a095a1e3dcc5",
   "metadata": {},
   "outputs": [],
   "source": []
  }
 ],
 "metadata": {
  "kernelspec": {
   "display_name": "gpu",
   "language": "python",
   "name": "gpu"
  },
  "language_info": {
   "codemirror_mode": {
    "name": "ipython",
    "version": 3
   },
   "file_extension": ".py",
   "mimetype": "text/x-python",
   "name": "python",
   "nbconvert_exporter": "python",
   "pygments_lexer": "ipython3",
   "version": "3.9.18"
  }
 },
 "nbformat": 4,
 "nbformat_minor": 5
}
