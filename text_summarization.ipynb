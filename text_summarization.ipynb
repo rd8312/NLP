{
 "cells": [
  {
   "cell_type": "markdown",
   "id": "d1ac5c66-d09c-4e54-8733-7595e3828ff4",
   "metadata": {},
   "source": [
    "# 文字摘要(Text Summarization)"
   ]
  },
  {
   "cell_type": "code",
   "execution_count": 1,
   "id": "dead2535-4c6e-44a9-84c6-c4adecb01c3e",
   "metadata": {
    "tags": []
   },
   "outputs": [
    {
     "name": "stderr",
     "output_type": "stream",
     "text": [
      "C:\\Users\\a4022\\anaconda3\\envs\\gpu\\lib\\site-packages\\tqdm\\auto.py:21: TqdmWarning: IProgress not found. Please update jupyter and ipywidgets. See https://ipywidgets.readthedocs.io/en/stable/user_install.html\n",
      "  from .autonotebook import tqdm as notebook_tqdm\n"
     ]
    }
   ],
   "source": [
    "from transformers import pipeline"
   ]
  },
  {
   "cell_type": "code",
   "execution_count": 2,
   "id": "1366f3b7-1952-4b2a-b4d2-200ddd30ac21",
   "metadata": {
    "tags": []
   },
   "outputs": [
    {
     "name": "stderr",
     "output_type": "stream",
     "text": [
      "No model was supplied, defaulted to sshleifer/distilbart-cnn-12-6 and revision a4f8f3e (https://huggingface.co/sshleifer/distilbart-cnn-12-6).\n",
      "Using a pipeline without specifying a model name and revision in production is not recommended.\n",
      "(…)ilbart-cnn-12-6/resolve/main/config.json: 100%|█████████████████████████████| 1.80k/1.80k [00:00<00:00, 902kB/s]\n",
      "pytorch_model.bin: 100%|██████████████████████████████████████████████████████| 1.22G/1.22G [00:51<00:00, 23.6MB/s]\n",
      "(…)-12-6/resolve/main/tokenizer_config.json: 100%|██████████████████████████████| 26.0/26.0 [00:00<00:00, 13.0kB/s]\n",
      "(…)tilbart-cnn-12-6/resolve/main/vocab.json: 100%|██████████████████████████████| 899k/899k [00:00<00:00, 1.49MB/s]\n",
      "(…)tilbart-cnn-12-6/resolve/main/merges.txt: 100%|██████████████████████████████| 456k/456k [00:00<00:00, 1.18MB/s]\n"
     ]
    }
   ],
   "source": [
    "summarizer = pipeline(\"summarization\")"
   ]
  },
  {
   "cell_type": "code",
   "execution_count": 3,
   "id": "67423022-32db-4a14-af83-235ae6ad35ab",
   "metadata": {
    "tags": []
   },
   "outputs": [
    {
     "name": "stdout",
     "output_type": "stream",
     "text": [
      "[{'summary_text': ' Liana Barrientos has been married 10 times, with nine of her marriages occurring between 1999 and 2002 . She is believed to still be married to four men, and at one time, she was married to eight men at once, prosecutors say . She pleaded not guilty at State Supreme Court in the Bronx on Friday, her attorney says .'}]\n"
     ]
    }
   ],
   "source": [
    "# 測試資料\n",
    "ARTICLE = \"\"\" New York (CNN) When Liana Barrientos was 23 years old, she got married in Westchester County, New York.\n",
    "A year later, she got married again in Westchester County, but to a different man and without divorcing her first husband.\n",
    "Only 18 days after that marriage, she got hitched yet again. Then, Barrientos declared \"I do\" five more times, sometimes only within two weeks of each other.\n",
    "In 2010, she married once more, this time in the Bronx. In an application for a marriage license, she stated it was her \"first and only\" marriage.\n",
    "Barrientos, now 39, is facing two criminal counts of \"offering a false instrument for filing in the first degree,\" referring to her false statements on the\n",
    "2010 marriage license application, according to court documents.\n",
    "Prosecutors said the marriages were part of an immigration scam.\n",
    "On Friday, she pleaded not guilty at State Supreme Court in the Bronx, according to her attorney, Christopher Wright, who declined to comment further.\n",
    "After leaving court, Barrientos was arrested and charged with theft of service and criminal trespass for allegedly sneaking into the New York subway through an emergency exit, said Detective\n",
    "Annette Markowski, a police spokeswoman. In total, Barrientos has been married 10 times, with nine of her marriages occurring between 1999 and 2002.\n",
    "All occurred either in Westchester County, Long Island, New Jersey or the Bronx. She is believed to still be married to four men, and at one time, she was married to eight men at once, prosecutors say.\n",
    "Prosecutors said the immigration scam involved some of her husbands, who filed for permanent residence status shortly after the marriages.\n",
    "Any divorces happened only after such filings were approved. It was unclear whether any of the men will be prosecuted.\n",
    "The case was referred to the Bronx District Attorney\\'s Office by Immigration and Customs Enforcement and the Department of Homeland Security\\'s\n",
    "Investigation Division. Seven of the men are from so-called \"red-flagged\" countries, including Egypt, Turkey, Georgia, Pakistan and Mali.\n",
    "Her eighth husband, Rashid Rajput, was deported in 2006 to his native Pakistan after an investigation by the Joint Terrorism Task Force.\n",
    "If convicted, Barrientos faces up to four years in prison.  Her next court appearance is scheduled for May 18.\n",
    "\"\"\"\n",
    "\n",
    "# 推測答案\n",
    "print(summarizer(ARTICLE, max_length=130, min_length=30, do_sample=False))"
   ]
  },
  {
   "cell_type": "markdown",
   "id": "ab34cf92-340a-4d8f-a4f0-7ac5ecbd094a",
   "metadata": {},
   "source": [
    "# 結合Tokenizer"
   ]
  },
  {
   "cell_type": "code",
   "execution_count": 4,
   "id": "8b5201d9-f12f-44b2-ad0c-889518ba6ab2",
   "metadata": {
    "tags": []
   },
   "outputs": [
    {
     "name": "stderr",
     "output_type": "stream",
     "text": [
      "(…)face.co/t5-base/resolve/main/config.json: 100%|█████████████████████████████| 1.21k/1.21k [00:00<00:00, 603kB/s]\n",
      "model.safetensors: 100%|████████████████████████████████████████████████████████| 892M/892M [00:36<00:00, 24.7MB/s]\n",
      "(…)base/resolve/main/generation_config.json: 100%|████████████████████████████████| 147/147 [00:00<00:00, 49.0kB/s]\n",
      "(…)ace.co/t5-base/resolve/main/spiece.model: 100%|██████████████████████████████| 792k/792k [00:00<00:00, 1.02MB/s]\n",
      "(…)e.co/t5-base/resolve/main/tokenizer.json: 100%|████████████████████████████| 1.39M/1.39M [00:00<00:00, 3.41MB/s]\n",
      "C:\\Users\\a4022\\anaconda3\\envs\\gpu\\lib\\site-packages\\transformers\\models\\t5\\tokenization_t5_fast.py:155: FutureWarning: This tokenizer was incorrectly instantiated with a model max length of 512 which will be corrected in Transformers v5.\n",
      "For now, this behavior is kept to avoid breaking backwards compatibility when padding/encoding with `truncation is True`.\n",
      "- Be aware that you SHOULD NOT rely on t5-base automatically truncating your input to 512 when padding/encoding.\n",
      "- If you want to encode/pad to sequences longer than 512 you can either instantiate this tokenizer with `model_max_length` or pass `max_length` when encoding/padding.\n",
      "- To avoid this warning, please instantiate this tokenizer with `model_max_length` set to your preferred value.\n",
      "  warnings.warn(\n"
     ]
    },
    {
     "name": "stdout",
     "output_type": "stream",
     "text": [
      "<pad> new: barrientos pleads not guilty to two counts of \"offering a false instrument for filing in the first degree\" new: she is charged with theft of service and criminal trespass. she has been married 10 times, with nine of her marriages occurring between 1999 and 2002. seven of the men are from so-called \"red-flagged\" countries.</s>\n"
     ]
    }
   ],
   "source": [
    "# 載入相關套件\n",
    "from transformers import AutoModelForSeq2SeqLM, AutoTokenizer\n",
    "\n",
    "model = AutoModelForSeq2SeqLM.from_pretrained(\"t5-base\")\n",
    "\n",
    "# 結合分詞器(Tokenizer)\n",
    "tokenizer = AutoTokenizer.from_pretrained(\"t5-base\")\n",
    "\n",
    "# T5 最多限 512 個單字\n",
    "inputs = tokenizer(\"summarize: \" + ARTICLE, return_tensors=\"pt\", \n",
    "                   max_length=512, truncation=True)\n",
    "outputs = model.generate(\n",
    "    inputs[\"input_ids\"], max_length=150, min_length=40, \n",
    "    length_penalty=2.0, num_beams=4, early_stopping=True\n",
    ")\n",
    "\n",
    "print(tokenizer.decode(outputs[0]))"
   ]
  },
  {
   "cell_type": "code",
   "execution_count": null,
   "id": "056ec643-34f2-4892-bfb5-169e96af9357",
   "metadata": {},
   "outputs": [],
   "source": []
  }
 ],
 "metadata": {
  "kernelspec": {
   "display_name": "gpu",
   "language": "python",
   "name": "gpu"
  },
  "language_info": {
   "codemirror_mode": {
    "name": "ipython",
    "version": 3
   },
   "file_extension": ".py",
   "mimetype": "text/x-python",
   "name": "python",
   "nbconvert_exporter": "python",
   "pygments_lexer": "ipython3",
   "version": "3.9.18"
  }
 },
 "nbformat": 4,
 "nbformat_minor": 5
}
