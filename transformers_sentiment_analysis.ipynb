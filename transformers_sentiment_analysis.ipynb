{
 "cells": [
  {
   "cell_type": "markdown",
   "id": "3a6bc54d-af16-49aa-9111-df18fc7115e7",
   "metadata": {},
   "source": [
    "- [Transformers 『Quick tour』](https://huggingface.co/transformers/quicktour.html)"
   ]
  },
  {
   "cell_type": "code",
   "execution_count": 1,
   "id": "9cc5f1e1-149b-493b-ac31-181b1316686a",
   "metadata": {
    "tags": []
   },
   "outputs": [
    {
     "name": "stderr",
     "output_type": "stream",
     "text": [
      "C:\\Users\\a4022\\anaconda3\\envs\\gpu\\lib\\site-packages\\tqdm\\auto.py:21: TqdmWarning: IProgress not found. Please update jupyter and ipywidgets. See https://ipywidgets.readthedocs.io/en/stable/user_install.html\n",
      "  from .autonotebook import tqdm as notebook_tqdm\n"
     ]
    }
   ],
   "source": [
    "from transformers import pipeline"
   ]
  },
  {
   "cell_type": "markdown",
   "id": "e3565f74-767a-485b-b97b-95f7effefb9d",
   "metadata": {},
   "source": [
    "# 情緒分析(Sentiment analysis)"
   ]
  },
  {
   "cell_type": "code",
   "execution_count": 6,
   "id": "fc1004ef-2bbc-483c-b760-1a0c151e9fd2",
   "metadata": {
    "scrolled": true,
    "tags": []
   },
   "outputs": [
    {
     "name": "stderr",
     "output_type": "stream",
     "text": [
      "No model was supplied, defaulted to distilbert-base-uncased-finetuned-sst-2-english and revision af0f99b (https://huggingface.co/distilbert-base-uncased-finetuned-sst-2-english).\n",
      "Using a pipeline without specifying a model name and revision in production is not recommended.\n"
     ]
    }
   ],
   "source": [
    "# 載入模型\n",
    "classifier = pipeline('sentiment-analysis')"
   ]
  },
  {
   "cell_type": "code",
   "execution_count": 7,
   "id": "dad4039e-fb21-4b69-8643-5015815cf5cc",
   "metadata": {
    "tags": []
   },
   "outputs": [
    {
     "data": {
      "text/plain": [
       "<transformers.pipelines.text_classification.TextClassificationPipeline at 0x2759feae700>"
      ]
     },
     "execution_count": 7,
     "metadata": {},
     "output_type": "execute_result"
    }
   ],
   "source": [
    "classifier"
   ]
  },
  {
   "cell_type": "code",
   "execution_count": 8,
   "id": "1bbe35ec-d668-4917-835c-7b8b5d3ba6dd",
   "metadata": {
    "tags": []
   },
   "outputs": [
    {
     "name": "stdout",
     "output_type": "stream",
     "text": [
      "[{'label': 'POSITIVE', 'score': 0.9997795224189758}]\n",
      "[{'label': 'NEGATIVE', 'score': 0.9996869564056396}]\n",
      "[{'label': 'POSITIVE', 'score': 0.999536395072937}]\n"
     ]
    }
   ],
   "source": [
    "# 正面\n",
    "print(classifier('We are very happy to show you the 🤗 Transformers library.'))\n",
    "\n",
    "# 負面\n",
    "print(classifier('I hate this movie.'))\n",
    "\n",
    "# 否定句也可以正確分類\n",
    "print(classifier('the movie is not bad.'))"
   ]
  },
  {
   "cell_type": "code",
   "execution_count": 9,
   "id": "9bed9b95-735c-4be1-945f-4945ebcc09bb",
   "metadata": {
    "tags": []
   },
   "outputs": [
    {
     "name": "stdout",
     "output_type": "stream",
     "text": [
      "label: POSITIVE, with score: 0.9999\n",
      "label: NEGATIVE, with score: 0.5309\n"
     ]
    }
   ],
   "source": [
    "# 一次測試多筆\n",
    "results = classifier([\"We are very happy.\",\n",
    "                      \"We hope you don't hate it.\"])\n",
    "for result in results:\n",
    "    print(f\"label: {result['label']}, with score: {round(result['score'], 4)}\")"
   ]
  },
  {
   "cell_type": "code",
   "execution_count": 11,
   "id": "f7ae9451-bb82-4e81-bf63-43c1a0643c0c",
   "metadata": {
    "tags": []
   },
   "outputs": [
    {
     "name": "stderr",
     "output_type": "stream",
     "text": [
      "(…)cased-sentiment/resolve/main/config.json: 100%|█████████████████████████████████| 953/953 [00:00<00:00, 475kB/s]\n",
      "pytorch_model.bin: 100%|████████████████████████████████████████████████████████| 669M/669M [00:25<00:00, 25.8MB/s]\n",
      "(…)iment/resolve/main/tokenizer_config.json: 100%|██████████████████████████████| 39.0/39.0 [00:00<00:00, 19.4kB/s]\n",
      "(…)uncased-sentiment/resolve/main/vocab.txt: 100%|██████████████████████████████| 872k/872k [00:00<00:00, 1.19MB/s]\n",
      "(…)ent/resolve/main/special_tokens_map.json: 100%|████████████████████████████████| 112/112 [00:00<00:00, 55.8kB/s]\n"
     ]
    }
   ],
   "source": [
    "# 載入多語系模型，支援 English, French, Dutch, German, Italian, Spanish\n",
    "classifier = pipeline('sentiment-analysis', model='nlptown/bert-base-multilingual-uncased-sentiment')"
   ]
  },
  {
   "cell_type": "code",
   "execution_count": 12,
   "id": "db715076-cdaf-4f9c-83c6-9445f05d9723",
   "metadata": {
    "tags": []
   },
   "outputs": [
    {
     "name": "stdout",
     "output_type": "stream",
     "text": [
      "[{'label': '1 star', 'score': 0.4615821838378906}]\n",
      "[{'label': '3 stars', 'score': 0.6274545192718506}]\n"
     ]
    }
   ],
   "source": [
    "# 西班牙文(Spanish)\n",
    "# 負面, I hate this movie\n",
    "print(classifier('Odio esta pelicula.'))\n",
    "\n",
    "# the movie is not bad.\n",
    "print(classifier('la pelicula no esta mal.'))"
   ]
  },
  {
   "cell_type": "code",
   "execution_count": 13,
   "id": "55fcb9fa-0799-405a-aebb-fed2e4b04c63",
   "metadata": {
    "tags": []
   },
   "outputs": [
    {
     "name": "stdout",
     "output_type": "stream",
     "text": [
      "[{'label': '1 star', 'score': 0.6311178207397461}]\n",
      "[{'label': '3 stars', 'score': 0.5710769891738892}]\n"
     ]
    }
   ],
   "source": [
    "# 法文(French)\n",
    "# 負面, I hate this movie\n",
    "print(classifier('Je déteste ce film.'))\n",
    "\n",
    "# the movie is not bad.\n",
    "print(classifier('le film n\\'est pas mal.'))"
   ]
  },
  {
   "cell_type": "code",
   "execution_count": null,
   "id": "018569b2-4657-4316-aedd-740868bb20eb",
   "metadata": {},
   "outputs": [],
   "source": []
  }
 ],
 "metadata": {
  "kernelspec": {
   "display_name": "gpu",
   "language": "python",
   "name": "gpu"
  },
  "language_info": {
   "codemirror_mode": {
    "name": "ipython",
    "version": 3
   },
   "file_extension": ".py",
   "mimetype": "text/x-python",
   "name": "python",
   "nbconvert_exporter": "python",
   "pygments_lexer": "ipython3",
   "version": "3.9.18"
  }
 },
 "nbformat": 4,
 "nbformat_minor": 5
}
