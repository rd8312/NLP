{
 "cells": [
  {
   "cell_type": "markdown",
   "id": "7c19dc92-da31-4daf-bb00-d94f0ba676fb",
   "metadata": {},
   "source": [
    "- 小型的英文模型"
   ]
  },
  {
   "cell_type": "code",
   "execution_count": 3,
   "id": "058f401e-63ce-40da-82a5-f84e0eaaf6d7",
   "metadata": {
    "scrolled": true,
    "tags": []
   },
   "outputs": [
    {
     "name": "stdout",
     "output_type": "stream",
     "text": [
      "Collecting en-core-web-sm==3.5.0\n",
      "  Downloading https://github.com/explosion/spacy-models/releases/download/en_core_web_sm-3.5.0/en_core_web_sm-3.5.0-py3-none-any.whl (12.8 MB)\n",
      "     ---------------------------------------- 0.0/12.8 MB ? eta -:--:--\n",
      "     ---------------------------------------- 0.0/12.8 MB ? eta -:--:--\n",
      "     ---------------------------------------- 0.0/12.8 MB ? eta -:--:--\n",
      "     --------------------------------------- 0.1/12.8 MB 544.7 kB/s eta 0:00:24\n",
      "     --------------------------------------- 0.1/12.8 MB 853.3 kB/s eta 0:00:15\n",
      "      --------------------------------------- 0.3/12.8 MB 1.2 MB/s eta 0:00:11\n",
      "     - -------------------------------------- 0.5/12.8 MB 2.1 MB/s eta 0:00:06\n",
      "     --- ------------------------------------ 1.0/12.8 MB 3.4 MB/s eta 0:00:04\n",
      "     --- ------------------------------------ 1.3/12.8 MB 3.8 MB/s eta 0:00:04\n",
      "     ------ --------------------------------- 2.2/12.8 MB 5.9 MB/s eta 0:00:02\n",
      "     -------- ------------------------------- 2.8/12.8 MB 6.3 MB/s eta 0:00:02\n",
      "     ------------- -------------------------- 4.3/12.8 MB 8.9 MB/s eta 0:00:01\n",
      "     -------------- ------------------------- 4.6/12.8 MB 9.5 MB/s eta 0:00:01\n",
      "     ---------------- ----------------------- 5.2/12.8 MB 9.3 MB/s eta 0:00:01\n",
      "     ------------------ --------------------- 6.0/12.8 MB 9.9 MB/s eta 0:00:01\n",
      "     ----------------------- ---------------- 7.5/12.8 MB 11.5 MB/s eta 0:00:01\n",
      "     ------------------------- -------------- 8.2/12.8 MB 11.7 MB/s eta 0:00:01\n",
      "     -------------------------- ------------- 8.5/12.8 MB 11.0 MB/s eta 0:00:01\n",
      "     -------------------------------- ------ 10.5/12.8 MB 17.2 MB/s eta 0:00:01\n",
      "     ----------------------------------- --- 11.7/12.8 MB 20.5 MB/s eta 0:00:01\n",
      "     ------------------------------------- - 12.4/12.8 MB 21.1 MB/s eta 0:00:01\n",
      "     --------------------------------------  12.8/12.8 MB 20.5 MB/s eta 0:00:01\n",
      "     --------------------------------------- 12.8/12.8 MB 18.7 MB/s eta 0:00:00\n",
      "Requirement already satisfied: spacy<3.6.0,>=3.5.0 in c:\\users\\a4022\\anaconda3\\envs\\gpu\\lib\\site-packages (from en-core-web-sm==3.5.0) (3.5.3)\n",
      "Requirement already satisfied: spacy-legacy<3.1.0,>=3.0.11 in c:\\users\\a4022\\anaconda3\\envs\\gpu\\lib\\site-packages (from spacy<3.6.0,>=3.5.0->en-core-web-sm==3.5.0) (3.0.12)\n",
      "Requirement already satisfied: spacy-loggers<2.0.0,>=1.0.0 in c:\\users\\a4022\\anaconda3\\envs\\gpu\\lib\\site-packages (from spacy<3.6.0,>=3.5.0->en-core-web-sm==3.5.0) (1.0.5)\n",
      "Requirement already satisfied: murmurhash<1.1.0,>=0.28.0 in c:\\users\\a4022\\anaconda3\\envs\\gpu\\lib\\site-packages (from spacy<3.6.0,>=3.5.0->en-core-web-sm==3.5.0) (1.0.7)\n",
      "Requirement already satisfied: cymem<2.1.0,>=2.0.2 in c:\\users\\a4022\\anaconda3\\envs\\gpu\\lib\\site-packages (from spacy<3.6.0,>=3.5.0->en-core-web-sm==3.5.0) (2.0.6)\n",
      "Requirement already satisfied: preshed<3.1.0,>=3.0.2 in c:\\users\\a4022\\anaconda3\\envs\\gpu\\lib\\site-packages (from spacy<3.6.0,>=3.5.0->en-core-web-sm==3.5.0) (3.0.6)\n",
      "Requirement already satisfied: thinc<8.2.0,>=8.1.8 in c:\\users\\a4022\\anaconda3\\envs\\gpu\\lib\\site-packages (from spacy<3.6.0,>=3.5.0->en-core-web-sm==3.5.0) (8.1.10)\n",
      "Requirement already satisfied: wasabi<1.2.0,>=0.9.1 in c:\\users\\a4022\\anaconda3\\envs\\gpu\\lib\\site-packages (from spacy<3.6.0,>=3.5.0->en-core-web-sm==3.5.0) (1.1.2)\n",
      "Requirement already satisfied: srsly<3.0.0,>=2.4.3 in c:\\users\\a4022\\anaconda3\\envs\\gpu\\lib\\site-packages (from spacy<3.6.0,>=3.5.0->en-core-web-sm==3.5.0) (2.4.6)\n",
      "Requirement already satisfied: catalogue<2.1.0,>=2.0.6 in c:\\users\\a4022\\anaconda3\\envs\\gpu\\lib\\site-packages (from spacy<3.6.0,>=3.5.0->en-core-web-sm==3.5.0) (2.0.10)\n",
      "Requirement already satisfied: typer<0.8.0,>=0.3.0 in c:\\users\\a4022\\anaconda3\\envs\\gpu\\lib\\site-packages (from spacy<3.6.0,>=3.5.0->en-core-web-sm==3.5.0) (0.4.2)\n",
      "Requirement already satisfied: pathy>=0.10.0 in c:\\users\\a4022\\anaconda3\\envs\\gpu\\lib\\site-packages (from spacy<3.6.0,>=3.5.0->en-core-web-sm==3.5.0) (0.10.1)\n",
      "Requirement already satisfied: smart-open<7.0.0,>=5.2.1 in c:\\users\\a4022\\anaconda3\\envs\\gpu\\lib\\site-packages (from spacy<3.6.0,>=3.5.0->en-core-web-sm==3.5.0) (6.4.0)\n",
      "Requirement already satisfied: tqdm<5.0.0,>=4.38.0 in c:\\users\\a4022\\anaconda3\\envs\\gpu\\lib\\site-packages (from spacy<3.6.0,>=3.5.0->en-core-web-sm==3.5.0) (4.65.0)\n",
      "Requirement already satisfied: numpy>=1.15.0 in c:\\users\\a4022\\anaconda3\\envs\\gpu\\lib\\site-packages (from spacy<3.6.0,>=3.5.0->en-core-web-sm==3.5.0) (1.26.0)\n",
      "Requirement already satisfied: requests<3.0.0,>=2.13.0 in c:\\users\\a4022\\anaconda3\\envs\\gpu\\lib\\site-packages (from spacy<3.6.0,>=3.5.0->en-core-web-sm==3.5.0) (2.31.0)\n",
      "Requirement already satisfied: pydantic!=1.8,!=1.8.1,<1.11.0,>=1.7.4 in c:\\users\\a4022\\anaconda3\\envs\\gpu\\lib\\site-packages (from spacy<3.6.0,>=3.5.0->en-core-web-sm==3.5.0) (1.10.12)\n",
      "Requirement already satisfied: jinja2 in c:\\users\\a4022\\anaconda3\\envs\\gpu\\lib\\site-packages (from spacy<3.6.0,>=3.5.0->en-core-web-sm==3.5.0) (3.1.2)\n",
      "Requirement already satisfied: setuptools in c:\\users\\a4022\\anaconda3\\envs\\gpu\\lib\\site-packages (from spacy<3.6.0,>=3.5.0->en-core-web-sm==3.5.0) (68.0.0)\n",
      "Requirement already satisfied: packaging>=20.0 in c:\\users\\a4022\\anaconda3\\envs\\gpu\\lib\\site-packages (from spacy<3.6.0,>=3.5.0->en-core-web-sm==3.5.0) (23.1)\n",
      "Requirement already satisfied: langcodes<4.0.0,>=3.2.0 in c:\\users\\a4022\\anaconda3\\envs\\gpu\\lib\\site-packages (from spacy<3.6.0,>=3.5.0->en-core-web-sm==3.5.0) (3.3.0)\n",
      "Requirement already satisfied: typing-extensions>=4.2.0 in c:\\users\\a4022\\anaconda3\\envs\\gpu\\lib\\site-packages (from pydantic!=1.8,!=1.8.1,<1.11.0,>=1.7.4->spacy<3.6.0,>=3.5.0->en-core-web-sm==3.5.0) (4.7.1)\n",
      "Requirement already satisfied: charset-normalizer<4,>=2 in c:\\users\\a4022\\anaconda3\\envs\\gpu\\lib\\site-packages (from requests<3.0.0,>=2.13.0->spacy<3.6.0,>=3.5.0->en-core-web-sm==3.5.0) (2.0.4)\n",
      "Requirement already satisfied: idna<4,>=2.5 in c:\\users\\a4022\\anaconda3\\envs\\gpu\\lib\\site-packages (from requests<3.0.0,>=2.13.0->spacy<3.6.0,>=3.5.0->en-core-web-sm==3.5.0) (3.4)\n",
      "Requirement already satisfied: urllib3<3,>=1.21.1 in c:\\users\\a4022\\anaconda3\\envs\\gpu\\lib\\site-packages (from requests<3.0.0,>=2.13.0->spacy<3.6.0,>=3.5.0->en-core-web-sm==3.5.0) (1.26.16)\n",
      "Requirement already satisfied: certifi>=2017.4.17 in c:\\users\\a4022\\anaconda3\\envs\\gpu\\lib\\site-packages (from requests<3.0.0,>=2.13.0->spacy<3.6.0,>=3.5.0->en-core-web-sm==3.5.0) (2023.7.22)\n",
      "Requirement already satisfied: blis<0.8.0,>=0.7.8 in c:\\users\\a4022\\anaconda3\\envs\\gpu\\lib\\site-packages (from thinc<8.2.0,>=8.1.8->spacy<3.6.0,>=3.5.0->en-core-web-sm==3.5.0) (0.7.9)\n",
      "Requirement already satisfied: confection<1.0.0,>=0.0.1 in c:\\users\\a4022\\anaconda3\\envs\\gpu\\lib\\site-packages (from thinc<8.2.0,>=8.1.8->spacy<3.6.0,>=3.5.0->en-core-web-sm==3.5.0) (0.1.3)\n",
      "Requirement already satisfied: colorama in c:\\users\\a4022\\anaconda3\\envs\\gpu\\lib\\site-packages (from tqdm<5.0.0,>=4.38.0->spacy<3.6.0,>=3.5.0->en-core-web-sm==3.5.0) (0.4.6)\n",
      "Requirement already satisfied: click<9.0.0,>=7.1.1 in c:\\users\\a4022\\anaconda3\\envs\\gpu\\lib\\site-packages (from typer<0.8.0,>=0.3.0->spacy<3.6.0,>=3.5.0->en-core-web-sm==3.5.0) (8.1.7)\n",
      "Requirement already satisfied: MarkupSafe>=2.0 in c:\\users\\a4022\\anaconda3\\envs\\gpu\\lib\\site-packages (from jinja2->spacy<3.6.0,>=3.5.0->en-core-web-sm==3.5.0) (2.1.1)\n",
      "Installing collected packages: en-core-web-sm\n",
      "Successfully installed en-core-web-sm-3.5.0\n",
      "\u001b[38;5;2m[+] Download and installation successful\u001b[0m\n",
      "You can now load the package via spacy.load('en_core_web_sm')\n"
     ]
    }
   ],
   "source": [
    "!python -m spacy download en_core_web_sm "
   ]
  },
  {
   "cell_type": "markdown",
   "id": "63083489-458f-47c7-8e52-17ce481d40c0",
   "metadata": {},
   "source": [
    "- 中型的英文模型"
   ]
  },
  {
   "cell_type": "code",
   "execution_count": 29,
   "id": "dce20c14-5ed4-4648-b040-42252c9ee819",
   "metadata": {
    "scrolled": true,
    "tags": []
   },
   "outputs": [
    {
     "name": "stdout",
     "output_type": "stream",
     "text": [
      "Collecting en-core-web-md==3.5.0\n",
      "  Downloading https://github.com/explosion/spacy-models/releases/download/en_core_web_md-3.5.0/en_core_web_md-3.5.0-py3-none-any.whl (42.8 MB)\n",
      "     ---------------------------------------- 0.0/42.8 MB ? eta -:--:--\n",
      "     ---------------------------------------- 0.0/42.8 MB ? eta -:--:--\n",
      "     --------------------------------------- 0.0/42.8 MB 217.9 kB/s eta 0:03:17\n",
      "     --------------------------------------- 0.0/42.8 MB 326.8 kB/s eta 0:02:11\n",
      "     --------------------------------------- 0.1/42.8 MB 595.3 kB/s eta 0:01:12\n",
      "     ---------------------------------------- 0.2/42.8 MB 1.1 MB/s eta 0:00:41\n",
      "     ---------------------------------------- 0.4/42.8 MB 1.6 MB/s eta 0:00:26\n",
      "      --------------------------------------- 0.8/42.8 MB 2.8 MB/s eta 0:00:16\n",
      "      --------------------------------------- 0.8/42.8 MB 2.8 MB/s eta 0:00:16\n",
      "      --------------------------------------- 0.8/42.8 MB 2.8 MB/s eta 0:00:16\n",
      "     - -------------------------------------- 1.7/42.8 MB 3.9 MB/s eta 0:00:11\n",
      "     - -------------------------------------- 1.7/42.8 MB 3.6 MB/s eta 0:00:12\n",
      "     -- ------------------------------------- 2.2/42.8 MB 4.4 MB/s eta 0:00:10\n",
      "     -- ------------------------------------- 2.2/42.8 MB 4.4 MB/s eta 0:00:10\n",
      "     -- ------------------------------------- 2.5/42.8 MB 3.8 MB/s eta 0:00:11\n",
      "     --- ------------------------------------ 3.3/42.8 MB 4.9 MB/s eta 0:00:08\n",
      "     --- ------------------------------------ 3.5/42.8 MB 4.9 MB/s eta 0:00:09\n",
      "     ---- ----------------------------------- 4.6/42.8 MB 6.0 MB/s eta 0:00:07\n",
      "     ----- ---------------------------------- 5.6/42.8 MB 6.8 MB/s eta 0:00:06\n",
      "     ------ --------------------------------- 6.8/42.8 MB 7.9 MB/s eta 0:00:05\n",
      "     ------- -------------------------------- 7.8/42.8 MB 8.6 MB/s eta 0:00:05\n",
      "     ------- -------------------------------- 8.4/42.8 MB 8.8 MB/s eta 0:00:04\n",
      "     --------- ------------------------------ 9.9/42.8 MB 9.9 MB/s eta 0:00:04\n",
      "     --------- ------------------------------ 10.1/42.8 MB 9.9 MB/s eta 0:00:04\n",
      "     --------- ----------------------------- 10.6/42.8 MB 12.1 MB/s eta 0:00:03\n",
      "     ----------- --------------------------- 12.3/42.8 MB 16.0 MB/s eta 0:00:02\n",
      "     ----------- --------------------------- 12.8/42.8 MB 19.3 MB/s eta 0:00:02\n",
      "     ------------ -------------------------- 13.5/42.8 MB 19.3 MB/s eta 0:00:02\n",
      "     ------------ -------------------------- 14.2/42.8 MB 19.2 MB/s eta 0:00:02\n",
      "     -------------- ------------------------ 15.6/42.8 MB 19.9 MB/s eta 0:00:02\n",
      "     -------------- ------------------------ 16.4/42.8 MB 19.9 MB/s eta 0:00:02\n",
      "     ---------------- ---------------------- 18.1/42.8 MB 21.8 MB/s eta 0:00:02\n",
      "     ----------------- --------------------- 19.0/42.8 MB 21.1 MB/s eta 0:00:02\n",
      "     ------------------ -------------------- 20.2/42.8 MB 21.1 MB/s eta 0:00:02\n",
      "     ------------------ -------------------- 20.2/42.8 MB 21.1 MB/s eta 0:00:02\n",
      "     ------------------ -------------------- 20.5/42.8 MB 19.8 MB/s eta 0:00:02\n",
      "     -------------------- ------------------ 22.5/42.8 MB 19.9 MB/s eta 0:00:02\n",
      "     --------------------- ----------------- 23.3/42.8 MB 22.5 MB/s eta 0:00:01\n",
      "     --------------------- ----------------- 23.7/42.8 MB 19.8 MB/s eta 0:00:01\n",
      "     ---------------------- ---------------- 24.8/42.8 MB 21.1 MB/s eta 0:00:01\n",
      "     ----------------------- --------------- 26.0/42.8 MB 20.5 MB/s eta 0:00:01\n",
      "     ------------------------ -------------- 26.5/42.8 MB 19.2 MB/s eta 0:00:01\n",
      "     ------------------------ -------------- 26.9/42.8 MB 18.7 MB/s eta 0:00:01\n",
      "     ------------------------- ------------- 27.7/42.8 MB 17.7 MB/s eta 0:00:01\n",
      "     -------------------------- ------------ 28.7/42.8 MB 18.7 MB/s eta 0:00:01\n",
      "     ---------------------------- ---------- 30.8/42.8 MB 21.1 MB/s eta 0:00:01\n",
      "     ----------------------------- --------- 31.9/42.8 MB 21.9 MB/s eta 0:00:01\n",
      "     ----------------------------- --------- 32.7/42.8 MB 20.5 MB/s eta 0:00:01\n",
      "     ------------------------------ -------- 33.9/42.8 MB 22.6 MB/s eta 0:00:01\n",
      "     -------------------------------- ------ 35.8/42.8 MB 24.2 MB/s eta 0:00:01\n",
      "     --------------------------------- ----- 36.9/42.8 MB 27.3 MB/s eta 0:00:01\n",
      "     ---------------------------------- ---- 38.0/42.8 MB 29.7 MB/s eta 0:00:01\n",
      "     ----------------------------------- --- 39.1/42.8 MB 28.4 MB/s eta 0:00:01\n",
      "     ------------------------------------- - 40.9/42.8 MB 28.4 MB/s eta 0:00:01\n",
      "     --------------------------------------  42.4/42.8 MB 29.8 MB/s eta 0:00:01\n",
      "     --------------------------------------  42.8/42.8 MB 28.5 MB/s eta 0:00:01\n",
      "     --------------------------------------  42.8/42.8 MB 28.5 MB/s eta 0:00:01\n",
      "     --------------------------------------- 42.8/42.8 MB 21.9 MB/s eta 0:00:00\n",
      "Requirement already satisfied: spacy<3.6.0,>=3.5.0 in c:\\users\\a4022\\anaconda3\\envs\\gpu\\lib\\site-packages (from en-core-web-md==3.5.0) (3.5.3)\n",
      "Requirement already satisfied: spacy-legacy<3.1.0,>=3.0.11 in c:\\users\\a4022\\anaconda3\\envs\\gpu\\lib\\site-packages (from spacy<3.6.0,>=3.5.0->en-core-web-md==3.5.0) (3.0.12)\n",
      "Requirement already satisfied: spacy-loggers<2.0.0,>=1.0.0 in c:\\users\\a4022\\anaconda3\\envs\\gpu\\lib\\site-packages (from spacy<3.6.0,>=3.5.0->en-core-web-md==3.5.0) (1.0.5)\n",
      "Requirement already satisfied: murmurhash<1.1.0,>=0.28.0 in c:\\users\\a4022\\anaconda3\\envs\\gpu\\lib\\site-packages (from spacy<3.6.0,>=3.5.0->en-core-web-md==3.5.0) (1.0.7)\n",
      "Requirement already satisfied: cymem<2.1.0,>=2.0.2 in c:\\users\\a4022\\anaconda3\\envs\\gpu\\lib\\site-packages (from spacy<3.6.0,>=3.5.0->en-core-web-md==3.5.0) (2.0.6)\n",
      "Requirement already satisfied: preshed<3.1.0,>=3.0.2 in c:\\users\\a4022\\anaconda3\\envs\\gpu\\lib\\site-packages (from spacy<3.6.0,>=3.5.0->en-core-web-md==3.5.0) (3.0.6)\n",
      "Requirement already satisfied: thinc<8.2.0,>=8.1.8 in c:\\users\\a4022\\anaconda3\\envs\\gpu\\lib\\site-packages (from spacy<3.6.0,>=3.5.0->en-core-web-md==3.5.0) (8.1.10)\n",
      "Requirement already satisfied: wasabi<1.2.0,>=0.9.1 in c:\\users\\a4022\\anaconda3\\envs\\gpu\\lib\\site-packages (from spacy<3.6.0,>=3.5.0->en-core-web-md==3.5.0) (1.1.2)\n",
      "Requirement already satisfied: srsly<3.0.0,>=2.4.3 in c:\\users\\a4022\\anaconda3\\envs\\gpu\\lib\\site-packages (from spacy<3.6.0,>=3.5.0->en-core-web-md==3.5.0) (2.4.6)\n",
      "Requirement already satisfied: catalogue<2.1.0,>=2.0.6 in c:\\users\\a4022\\anaconda3\\envs\\gpu\\lib\\site-packages (from spacy<3.6.0,>=3.5.0->en-core-web-md==3.5.0) (2.0.10)\n",
      "Requirement already satisfied: typer<0.8.0,>=0.3.0 in c:\\users\\a4022\\anaconda3\\envs\\gpu\\lib\\site-packages (from spacy<3.6.0,>=3.5.0->en-core-web-md==3.5.0) (0.4.2)\n",
      "Requirement already satisfied: pathy>=0.10.0 in c:\\users\\a4022\\anaconda3\\envs\\gpu\\lib\\site-packages (from spacy<3.6.0,>=3.5.0->en-core-web-md==3.5.0) (0.10.1)\n",
      "Requirement already satisfied: smart-open<7.0.0,>=5.2.1 in c:\\users\\a4022\\anaconda3\\envs\\gpu\\lib\\site-packages (from spacy<3.6.0,>=3.5.0->en-core-web-md==3.5.0) (6.4.0)\n",
      "Requirement already satisfied: tqdm<5.0.0,>=4.38.0 in c:\\users\\a4022\\anaconda3\\envs\\gpu\\lib\\site-packages (from spacy<3.6.0,>=3.5.0->en-core-web-md==3.5.0) (4.65.0)\n",
      "Requirement already satisfied: numpy>=1.15.0 in c:\\users\\a4022\\anaconda3\\envs\\gpu\\lib\\site-packages (from spacy<3.6.0,>=3.5.0->en-core-web-md==3.5.0) (1.26.0)\n",
      "Requirement already satisfied: requests<3.0.0,>=2.13.0 in c:\\users\\a4022\\anaconda3\\envs\\gpu\\lib\\site-packages (from spacy<3.6.0,>=3.5.0->en-core-web-md==3.5.0) (2.31.0)\n",
      "Requirement already satisfied: pydantic!=1.8,!=1.8.1,<1.11.0,>=1.7.4 in c:\\users\\a4022\\anaconda3\\envs\\gpu\\lib\\site-packages (from spacy<3.6.0,>=3.5.0->en-core-web-md==3.5.0) (1.10.12)\n",
      "Requirement already satisfied: jinja2 in c:\\users\\a4022\\anaconda3\\envs\\gpu\\lib\\site-packages (from spacy<3.6.0,>=3.5.0->en-core-web-md==3.5.0) (3.1.2)\n",
      "Requirement already satisfied: setuptools in c:\\users\\a4022\\anaconda3\\envs\\gpu\\lib\\site-packages (from spacy<3.6.0,>=3.5.0->en-core-web-md==3.5.0) (68.0.0)\n",
      "Requirement already satisfied: packaging>=20.0 in c:\\users\\a4022\\anaconda3\\envs\\gpu\\lib\\site-packages (from spacy<3.6.0,>=3.5.0->en-core-web-md==3.5.0) (23.1)\n",
      "Requirement already satisfied: langcodes<4.0.0,>=3.2.0 in c:\\users\\a4022\\anaconda3\\envs\\gpu\\lib\\site-packages (from spacy<3.6.0,>=3.5.0->en-core-web-md==3.5.0) (3.3.0)\n",
      "Requirement already satisfied: typing-extensions>=4.2.0 in c:\\users\\a4022\\anaconda3\\envs\\gpu\\lib\\site-packages (from pydantic!=1.8,!=1.8.1,<1.11.0,>=1.7.4->spacy<3.6.0,>=3.5.0->en-core-web-md==3.5.0) (4.7.1)\n",
      "Requirement already satisfied: charset-normalizer<4,>=2 in c:\\users\\a4022\\anaconda3\\envs\\gpu\\lib\\site-packages (from requests<3.0.0,>=2.13.0->spacy<3.6.0,>=3.5.0->en-core-web-md==3.5.0) (2.0.4)\n",
      "Requirement already satisfied: idna<4,>=2.5 in c:\\users\\a4022\\anaconda3\\envs\\gpu\\lib\\site-packages (from requests<3.0.0,>=2.13.0->spacy<3.6.0,>=3.5.0->en-core-web-md==3.5.0) (3.4)\n",
      "Requirement already satisfied: urllib3<3,>=1.21.1 in c:\\users\\a4022\\anaconda3\\envs\\gpu\\lib\\site-packages (from requests<3.0.0,>=2.13.0->spacy<3.6.0,>=3.5.0->en-core-web-md==3.5.0) (1.26.16)\n",
      "Requirement already satisfied: certifi>=2017.4.17 in c:\\users\\a4022\\anaconda3\\envs\\gpu\\lib\\site-packages (from requests<3.0.0,>=2.13.0->spacy<3.6.0,>=3.5.0->en-core-web-md==3.5.0) (2023.7.22)\n",
      "Requirement already satisfied: blis<0.8.0,>=0.7.8 in c:\\users\\a4022\\anaconda3\\envs\\gpu\\lib\\site-packages (from thinc<8.2.0,>=8.1.8->spacy<3.6.0,>=3.5.0->en-core-web-md==3.5.0) (0.7.9)\n",
      "Requirement already satisfied: confection<1.0.0,>=0.0.1 in c:\\users\\a4022\\anaconda3\\envs\\gpu\\lib\\site-packages (from thinc<8.2.0,>=8.1.8->spacy<3.6.0,>=3.5.0->en-core-web-md==3.5.0) (0.1.3)\n",
      "Requirement already satisfied: colorama in c:\\users\\a4022\\anaconda3\\envs\\gpu\\lib\\site-packages (from tqdm<5.0.0,>=4.38.0->spacy<3.6.0,>=3.5.0->en-core-web-md==3.5.0) (0.4.6)\n",
      "Requirement already satisfied: click<9.0.0,>=7.1.1 in c:\\users\\a4022\\anaconda3\\envs\\gpu\\lib\\site-packages (from typer<0.8.0,>=0.3.0->spacy<3.6.0,>=3.5.0->en-core-web-md==3.5.0) (8.1.7)\n",
      "Requirement already satisfied: MarkupSafe>=2.0 in c:\\users\\a4022\\anaconda3\\envs\\gpu\\lib\\site-packages (from jinja2->spacy<3.6.0,>=3.5.0->en-core-web-md==3.5.0) (2.1.1)\n",
      "Installing collected packages: en-core-web-md\n",
      "Successfully installed en-core-web-md-3.5.0\n",
      "\u001b[38;5;2m[+] Download and installation successful\u001b[0m\n",
      "You can now load the package via spacy.load('en_core_web_md')\n"
     ]
    }
   ],
   "source": [
    "!python -m spacy download en_core_web_md"
   ]
  },
  {
   "cell_type": "markdown",
   "id": "9f87c787-9bd8-4189-a735-5be3c1ba543d",
   "metadata": {},
   "source": [
    "- 小型的中文模型"
   ]
  },
  {
   "cell_type": "code",
   "execution_count": 4,
   "id": "fd2da966-48b7-47d0-9bd2-6bfbea6bf269",
   "metadata": {
    "scrolled": true,
    "tags": []
   },
   "outputs": [
    {
     "name": "stdout",
     "output_type": "stream",
     "text": [
      "Collecting zh-core-web-sm==3.5.0\n",
      "  Downloading https://github.com/explosion/spacy-models/releases/download/zh_core_web_sm-3.5.0/zh_core_web_sm-3.5.0-py3-none-any.whl (48.5 MB)\n",
      "     ---------------------------------------- 0.0/48.5 MB ? eta -:--:--\n",
      "     ---------------------------------------- 0.0/48.5 MB ? eta -:--:--\n",
      "     --------------------------------------- 0.0/48.5 MB 262.6 kB/s eta 0:03:05\n",
      "     --------------------------------------- 0.1/48.5 MB 409.6 kB/s eta 0:01:59\n",
      "     --------------------------------------- 0.1/48.5 MB 438.9 kB/s eta 0:01:51\n",
      "     --------------------------------------- 0.1/48.5 MB 438.9 kB/s eta 0:01:51\n",
      "     --------------------------------------- 0.1/48.5 MB 438.9 kB/s eta 0:01:51\n",
      "     --------------------------------------- 0.2/48.5 MB 655.9 kB/s eta 0:01:14\n",
      "     --------------------------------------- 0.3/48.5 MB 893.0 kB/s eta 0:00:54\n",
      "     --------------------------------------- 0.3/48.5 MB 893.0 kB/s eta 0:00:54\n",
      "     --------------------------------------- 0.3/48.5 MB 893.0 kB/s eta 0:00:54\n",
      "     ---------------------------------------- 0.6/48.5 MB 1.2 MB/s eta 0:00:42\n",
      "      --------------------------------------- 0.6/48.5 MB 1.2 MB/s eta 0:00:41\n",
      "      --------------------------------------- 1.1/48.5 MB 1.9 MB/s eta 0:00:26\n",
      "     - -------------------------------------- 1.3/48.5 MB 2.1 MB/s eta 0:00:23\n",
      "     - -------------------------------------- 2.2/48.5 MB 3.3 MB/s eta 0:00:14\n",
      "     -- ------------------------------------- 2.5/48.5 MB 3.4 MB/s eta 0:00:14\n",
      "     --- ------------------------------------ 3.8/48.5 MB 5.0 MB/s eta 0:00:10\n",
      "     --- ------------------------------------ 4.7/48.5 MB 5.7 MB/s eta 0:00:08\n",
      "     ---- ----------------------------------- 5.4/48.5 MB 6.3 MB/s eta 0:00:07\n",
      "     ----- ---------------------------------- 6.4/48.5 MB 7.1 MB/s eta 0:00:06\n",
      "     ----- ---------------------------------- 6.9/48.5 MB 7.4 MB/s eta 0:00:06\n",
      "     ----- ---------------------------------- 7.2/48.5 MB 7.2 MB/s eta 0:00:06\n",
      "     ------ --------------------------------- 8.3/48.5 MB 8.0 MB/s eta 0:00:06\n",
      "     ------- -------------------------------- 9.3/48.5 MB 8.5 MB/s eta 0:00:05\n",
      "     -------- ------------------------------- 9.7/48.5 MB 8.5 MB/s eta 0:00:05\n",
      "     -------- ------------------------------ 10.9/48.5 MB 16.0 MB/s eta 0:00:03\n",
      "     --------- ----------------------------- 11.7/48.5 MB 16.8 MB/s eta 0:00:03\n",
      "     ---------- ---------------------------- 13.3/48.5 MB 19.3 MB/s eta 0:00:02\n",
      "     ----------- --------------------------- 14.3/48.5 MB 19.3 MB/s eta 0:00:02\n",
      "     ------------ -------------------------- 15.3/48.5 MB 19.8 MB/s eta 0:00:02\n",
      "     ------------ -------------------------- 15.6/48.5 MB 18.7 MB/s eta 0:00:02\n",
      "     ------------ -------------------------- 16.0/48.5 MB 18.2 MB/s eta 0:00:02\n",
      "     ------------- ------------------------- 17.1/48.5 MB 20.5 MB/s eta 0:00:02\n",
      "     -------------- ------------------------ 18.3/48.5 MB 19.9 MB/s eta 0:00:02\n",
      "     --------------- ----------------------- 19.6/48.5 MB 21.1 MB/s eta 0:00:02\n",
      "     ----------------- --------------------- 21.2/48.5 MB 23.4 MB/s eta 0:00:02\n",
      "     ------------------ -------------------- 22.6/48.5 MB 22.6 MB/s eta 0:00:02\n",
      "     ------------------- ------------------- 24.1/48.5 MB 23.4 MB/s eta 0:00:02\n",
      "     ------------------- ------------------- 24.9/48.5 MB 24.2 MB/s eta 0:00:01\n",
      "     -------------------- ------------------ 25.8/48.5 MB 23.4 MB/s eta 0:00:01\n",
      "     --------------------- ----------------- 27.2/48.5 MB 27.3 MB/s eta 0:00:01\n",
      "     ----------------------- --------------- 29.0/48.5 MB 29.8 MB/s eta 0:00:01\n",
      "     ------------------------ -------------- 30.2/48.5 MB 28.5 MB/s eta 0:00:01\n",
      "     ------------------------- ------------- 31.5/48.5 MB 29.8 MB/s eta 0:00:01\n",
      "     -------------------------- ------------ 33.0/48.5 MB 28.5 MB/s eta 0:00:01\n",
      "     --------------------------- ----------- 34.8/48.5 MB 28.4 MB/s eta 0:00:01\n",
      "     ---------------------------- ---------- 35.9/48.5 MB 31.2 MB/s eta 0:00:01\n",
      "     ----------------------------- --------- 36.9/48.5 MB 31.2 MB/s eta 0:00:01\n",
      "     ------------------------------ -------- 38.2/48.5 MB 31.2 MB/s eta 0:00:01\n",
      "     -------------------------------- ------ 39.9/48.5 MB 29.8 MB/s eta 0:00:01\n",
      "     --------------------------------- ----- 41.6/48.5 MB 29.7 MB/s eta 0:00:01\n",
      "     ---------------------------------- ---- 42.9/48.5 MB 31.2 MB/s eta 0:00:01\n",
      "     ---------------------------------- ---- 43.3/48.5 MB 27.3 MB/s eta 0:00:01\n",
      "     ------------------------------------ -- 45.4/48.5 MB 27.3 MB/s eta 0:00:01\n",
      "     ------------------------------------- - 47.1/48.5 MB 31.2 MB/s eta 0:00:01\n",
      "     --------------------------------------  48.5/48.5 MB 32.7 MB/s eta 0:00:01\n",
      "     --------------------------------------  48.5/48.5 MB 32.7 MB/s eta 0:00:01\n",
      "     --------------------------------------- 48.5/48.5 MB 24.2 MB/s eta 0:00:00\n",
      "Requirement already satisfied: spacy<3.6.0,>=3.5.0 in c:\\users\\a4022\\anaconda3\\envs\\gpu\\lib\\site-packages (from zh-core-web-sm==3.5.0) (3.5.3)\n",
      "Collecting spacy-pkuseg<0.1.0,>=0.0.27 (from zh-core-web-sm==3.5.0)\n",
      "  Obtaining dependency information for spacy-pkuseg<0.1.0,>=0.0.27 from https://files.pythonhosted.org/packages/4a/70/4a2eb0e61af7030aa3c686fa318462c7268ada3409486412743fee016b48/spacy_pkuseg-0.0.33-cp39-cp39-win_amd64.whl.metadata\n",
      "  Downloading spacy_pkuseg-0.0.33-cp39-cp39-win_amd64.whl.metadata (13 kB)\n",
      "Requirement already satisfied: spacy-legacy<3.1.0,>=3.0.11 in c:\\users\\a4022\\anaconda3\\envs\\gpu\\lib\\site-packages (from spacy<3.6.0,>=3.5.0->zh-core-web-sm==3.5.0) (3.0.12)\n",
      "Requirement already satisfied: spacy-loggers<2.0.0,>=1.0.0 in c:\\users\\a4022\\anaconda3\\envs\\gpu\\lib\\site-packages (from spacy<3.6.0,>=3.5.0->zh-core-web-sm==3.5.0) (1.0.5)\n",
      "Requirement already satisfied: murmurhash<1.1.0,>=0.28.0 in c:\\users\\a4022\\anaconda3\\envs\\gpu\\lib\\site-packages (from spacy<3.6.0,>=3.5.0->zh-core-web-sm==3.5.0) (1.0.7)\n",
      "Requirement already satisfied: cymem<2.1.0,>=2.0.2 in c:\\users\\a4022\\anaconda3\\envs\\gpu\\lib\\site-packages (from spacy<3.6.0,>=3.5.0->zh-core-web-sm==3.5.0) (2.0.6)\n",
      "Requirement already satisfied: preshed<3.1.0,>=3.0.2 in c:\\users\\a4022\\anaconda3\\envs\\gpu\\lib\\site-packages (from spacy<3.6.0,>=3.5.0->zh-core-web-sm==3.5.0) (3.0.6)\n",
      "Requirement already satisfied: thinc<8.2.0,>=8.1.8 in c:\\users\\a4022\\anaconda3\\envs\\gpu\\lib\\site-packages (from spacy<3.6.0,>=3.5.0->zh-core-web-sm==3.5.0) (8.1.10)\n",
      "Requirement already satisfied: wasabi<1.2.0,>=0.9.1 in c:\\users\\a4022\\anaconda3\\envs\\gpu\\lib\\site-packages (from spacy<3.6.0,>=3.5.0->zh-core-web-sm==3.5.0) (1.1.2)\n",
      "Requirement already satisfied: srsly<3.0.0,>=2.4.3 in c:\\users\\a4022\\anaconda3\\envs\\gpu\\lib\\site-packages (from spacy<3.6.0,>=3.5.0->zh-core-web-sm==3.5.0) (2.4.6)\n",
      "Requirement already satisfied: catalogue<2.1.0,>=2.0.6 in c:\\users\\a4022\\anaconda3\\envs\\gpu\\lib\\site-packages (from spacy<3.6.0,>=3.5.0->zh-core-web-sm==3.5.0) (2.0.10)\n",
      "Requirement already satisfied: typer<0.8.0,>=0.3.0 in c:\\users\\a4022\\anaconda3\\envs\\gpu\\lib\\site-packages (from spacy<3.6.0,>=3.5.0->zh-core-web-sm==3.5.0) (0.4.2)\n",
      "Requirement already satisfied: pathy>=0.10.0 in c:\\users\\a4022\\anaconda3\\envs\\gpu\\lib\\site-packages (from spacy<3.6.0,>=3.5.0->zh-core-web-sm==3.5.0) (0.10.1)\n",
      "Requirement already satisfied: smart-open<7.0.0,>=5.2.1 in c:\\users\\a4022\\anaconda3\\envs\\gpu\\lib\\site-packages (from spacy<3.6.0,>=3.5.0->zh-core-web-sm==3.5.0) (6.4.0)\n",
      "Requirement already satisfied: tqdm<5.0.0,>=4.38.0 in c:\\users\\a4022\\anaconda3\\envs\\gpu\\lib\\site-packages (from spacy<3.6.0,>=3.5.0->zh-core-web-sm==3.5.0) (4.65.0)\n",
      "Requirement already satisfied: numpy>=1.15.0 in c:\\users\\a4022\\anaconda3\\envs\\gpu\\lib\\site-packages (from spacy<3.6.0,>=3.5.0->zh-core-web-sm==3.5.0) (1.26.0)\n",
      "Requirement already satisfied: requests<3.0.0,>=2.13.0 in c:\\users\\a4022\\anaconda3\\envs\\gpu\\lib\\site-packages (from spacy<3.6.0,>=3.5.0->zh-core-web-sm==3.5.0) (2.31.0)\n",
      "Requirement already satisfied: pydantic!=1.8,!=1.8.1,<1.11.0,>=1.7.4 in c:\\users\\a4022\\anaconda3\\envs\\gpu\\lib\\site-packages (from spacy<3.6.0,>=3.5.0->zh-core-web-sm==3.5.0) (1.10.12)\n",
      "Requirement already satisfied: jinja2 in c:\\users\\a4022\\anaconda3\\envs\\gpu\\lib\\site-packages (from spacy<3.6.0,>=3.5.0->zh-core-web-sm==3.5.0) (3.1.2)\n",
      "Requirement already satisfied: setuptools in c:\\users\\a4022\\anaconda3\\envs\\gpu\\lib\\site-packages (from spacy<3.6.0,>=3.5.0->zh-core-web-sm==3.5.0) (68.0.0)\n",
      "Requirement already satisfied: packaging>=20.0 in c:\\users\\a4022\\anaconda3\\envs\\gpu\\lib\\site-packages (from spacy<3.6.0,>=3.5.0->zh-core-web-sm==3.5.0) (23.1)\n",
      "Requirement already satisfied: langcodes<4.0.0,>=3.2.0 in c:\\users\\a4022\\anaconda3\\envs\\gpu\\lib\\site-packages (from spacy<3.6.0,>=3.5.0->zh-core-web-sm==3.5.0) (3.3.0)\n",
      "Requirement already satisfied: typing-extensions>=4.2.0 in c:\\users\\a4022\\anaconda3\\envs\\gpu\\lib\\site-packages (from pydantic!=1.8,!=1.8.1,<1.11.0,>=1.7.4->spacy<3.6.0,>=3.5.0->zh-core-web-sm==3.5.0) (4.7.1)\n",
      "Requirement already satisfied: charset-normalizer<4,>=2 in c:\\users\\a4022\\anaconda3\\envs\\gpu\\lib\\site-packages (from requests<3.0.0,>=2.13.0->spacy<3.6.0,>=3.5.0->zh-core-web-sm==3.5.0) (2.0.4)\n",
      "Requirement already satisfied: idna<4,>=2.5 in c:\\users\\a4022\\anaconda3\\envs\\gpu\\lib\\site-packages (from requests<3.0.0,>=2.13.0->spacy<3.6.0,>=3.5.0->zh-core-web-sm==3.5.0) (3.4)\n",
      "Requirement already satisfied: urllib3<3,>=1.21.1 in c:\\users\\a4022\\anaconda3\\envs\\gpu\\lib\\site-packages (from requests<3.0.0,>=2.13.0->spacy<3.6.0,>=3.5.0->zh-core-web-sm==3.5.0) (1.26.16)\n",
      "Requirement already satisfied: certifi>=2017.4.17 in c:\\users\\a4022\\anaconda3\\envs\\gpu\\lib\\site-packages (from requests<3.0.0,>=2.13.0->spacy<3.6.0,>=3.5.0->zh-core-web-sm==3.5.0) (2023.7.22)\n",
      "Requirement already satisfied: blis<0.8.0,>=0.7.8 in c:\\users\\a4022\\anaconda3\\envs\\gpu\\lib\\site-packages (from thinc<8.2.0,>=8.1.8->spacy<3.6.0,>=3.5.0->zh-core-web-sm==3.5.0) (0.7.9)\n",
      "Requirement already satisfied: confection<1.0.0,>=0.0.1 in c:\\users\\a4022\\anaconda3\\envs\\gpu\\lib\\site-packages (from thinc<8.2.0,>=8.1.8->spacy<3.6.0,>=3.5.0->zh-core-web-sm==3.5.0) (0.1.3)\n",
      "Requirement already satisfied: colorama in c:\\users\\a4022\\anaconda3\\envs\\gpu\\lib\\site-packages (from tqdm<5.0.0,>=4.38.0->spacy<3.6.0,>=3.5.0->zh-core-web-sm==3.5.0) (0.4.6)\n",
      "Requirement already satisfied: click<9.0.0,>=7.1.1 in c:\\users\\a4022\\anaconda3\\envs\\gpu\\lib\\site-packages (from typer<0.8.0,>=0.3.0->spacy<3.6.0,>=3.5.0->zh-core-web-sm==3.5.0) (8.1.7)\n",
      "Requirement already satisfied: MarkupSafe>=2.0 in c:\\users\\a4022\\anaconda3\\envs\\gpu\\lib\\site-packages (from jinja2->spacy<3.6.0,>=3.5.0->zh-core-web-sm==3.5.0) (2.1.1)\n",
      "Downloading spacy_pkuseg-0.0.33-cp39-cp39-win_amd64.whl (2.4 MB)\n",
      "   ---------------------------------------- 0.0/2.4 MB ? eta -:--:--\n",
      "   ---------------------------------------- 0.0/2.4 MB ? eta -:--:--\n",
      "    --------------------------------------- 0.0/2.4 MB 445.2 kB/s eta 0:00:06\n",
      "   - -------------------------------------- 0.1/2.4 MB 939.4 kB/s eta 0:00:03\n",
      "   --- ------------------------------------ 0.2/2.4 MB 1.2 MB/s eta 0:00:02\n",
      "   ------- -------------------------------- 0.5/2.4 MB 2.2 MB/s eta 0:00:01\n",
      "   ------------- -------------------------- 0.8/2.4 MB 3.2 MB/s eta 0:00:01\n",
      "   ----------------- ---------------------- 1.0/2.4 MB 3.7 MB/s eta 0:00:01\n",
      "   ----------------- ---------------------- 1.0/2.4 MB 3.7 MB/s eta 0:00:01\n",
      "   ----------------- ---------------------- 1.0/2.4 MB 3.7 MB/s eta 0:00:01\n",
      "   ----------------- ---------------------- 1.0/2.4 MB 3.7 MB/s eta 0:00:01\n",
      "   ----------------- ---------------------- 1.0/2.4 MB 3.7 MB/s eta 0:00:01\n",
      "   ----------------- ---------------------- 1.0/2.4 MB 3.7 MB/s eta 0:00:01\n",
      "   ----------------- ---------------------- 1.0/2.4 MB 3.7 MB/s eta 0:00:01\n",
      "   ----------------- ---------------------- 1.0/2.4 MB 3.7 MB/s eta 0:00:01\n",
      "   ----------------- ---------------------- 1.0/2.4 MB 3.7 MB/s eta 0:00:01\n",
      "   ----------------- ---------------------- 1.0/2.4 MB 3.7 MB/s eta 0:00:01\n",
      "   ---------------------------------- ----- 2.1/2.4 MB 2.8 MB/s eta 0:00:01\n",
      "   ------------------------------------- -- 2.2/2.4 MB 2.7 MB/s eta 0:00:01\n",
      "   ---------------------------------------- 2.4/2.4 MB 2.9 MB/s eta 0:00:00\n",
      "Installing collected packages: spacy-pkuseg, zh-core-web-sm\n",
      "Successfully installed spacy-pkuseg-0.0.33 zh-core-web-sm-3.5.0\n",
      "\u001b[38;5;2m[+] Download and installation successful\u001b[0m\n",
      "You can now load the package via spacy.load('zh_core_web_sm')\n"
     ]
    }
   ],
   "source": [
    "!python -m spacy download zh_core_web_sm"
   ]
  },
  {
   "cell_type": "markdown",
   "id": "ed9cd365-ec53-4bd3-b26b-f22363529838",
   "metadata": {},
   "source": [
    "- 中型的中文模型"
   ]
  },
  {
   "cell_type": "code",
   "execution_count": 26,
   "id": "8b373d75-3818-4d68-a6d5-f8dc21e395e6",
   "metadata": {
    "scrolled": true,
    "tags": []
   },
   "outputs": [
    {
     "name": "stdout",
     "output_type": "stream",
     "text": [
      "Collecting zh-core-web-md==3.5.0\n",
      "  Downloading https://github.com/explosion/spacy-models/releases/download/zh_core_web_md-3.5.0/zh_core_web_md-3.5.0-py3-none-any.whl (78.0 MB)\n",
      "     ---------------------------------------- 0.0/78.0 MB ? eta -:--:--\n",
      "     ---------------------------------------- 0.0/78.0 MB ? eta -:--:--\n",
      "     --------------------------------------- 0.0/78.0 MB 217.9 kB/s eta 0:05:59\n",
      "     --------------------------------------- 0.0/78.0 MB 281.8 kB/s eta 0:04:37\n",
      "     --------------------------------------- 0.1/78.0 MB 393.8 kB/s eta 0:03:18\n",
      "     --------------------------------------- 0.2/78.0 MB 706.2 kB/s eta 0:01:51\n",
      "     --------------------------------------- 0.2/78.0 MB 831.5 kB/s eta 0:01:34\n",
      "     --------------------------------------- 0.2/78.0 MB 831.5 kB/s eta 0:01:34\n",
      "     ---------------------------------------- 0.5/78.0 MB 1.2 MB/s eta 0:01:04\n",
      "     ---------------------------------------- 0.5/78.0 MB 1.2 MB/s eta 0:01:04\n",
      "     ---------------------------------------- 0.6/78.0 MB 1.2 MB/s eta 0:01:03\n",
      "     ---------------------------------------- 0.6/78.0 MB 1.2 MB/s eta 0:01:03\n",
      "     ---------------------------------------- 0.6/78.0 MB 1.2 MB/s eta 0:01:03\n",
      "     ---------------------------------------- 0.9/78.0 MB 1.6 MB/s eta 0:00:49\n",
      "     ---------------------------------------- 0.9/78.0 MB 1.5 MB/s eta 0:00:53\n",
      "      --------------------------------------- 1.4/78.0 MB 2.0 MB/s eta 0:00:39\n",
      "      --------------------------------------- 1.7/78.0 MB 2.2 MB/s eta 0:00:34\n",
      "      --------------------------------------- 1.9/78.0 MB 2.5 MB/s eta 0:00:31\n",
      "     - -------------------------------------- 2.3/78.0 MB 2.8 MB/s eta 0:00:28\n",
      "     - -------------------------------------- 2.6/78.0 MB 2.9 MB/s eta 0:00:26\n",
      "     - -------------------------------------- 3.0/78.0 MB 3.3 MB/s eta 0:00:23\n",
      "     - -------------------------------------- 3.4/78.0 MB 3.5 MB/s eta 0:00:22\n",
      "     -- ------------------------------------- 4.0/78.0 MB 4.0 MB/s eta 0:00:19\n",
      "     -- ------------------------------------- 4.6/78.0 MB 4.3 MB/s eta 0:00:17\n",
      "     -- ------------------------------------- 5.1/78.0 MB 4.6 MB/s eta 0:00:16\n",
      "     -- ------------------------------------- 5.8/78.0 MB 5.0 MB/s eta 0:00:15\n",
      "     --- ------------------------------------ 6.3/78.0 MB 5.2 MB/s eta 0:00:14\n",
      "     --- ------------------------------------ 6.9/78.0 MB 5.5 MB/s eta 0:00:13\n",
      "     --- ------------------------------------ 7.6/78.0 MB 5.9 MB/s eta 0:00:13\n",
      "     ---- ----------------------------------- 7.9/78.0 MB 5.9 MB/s eta 0:00:12\n",
      "     ---- ----------------------------------- 8.7/78.0 MB 6.3 MB/s eta 0:00:12\n",
      "     ---- ----------------------------------- 9.4/78.0 MB 6.5 MB/s eta 0:00:11\n",
      "     ----- ---------------------------------- 10.0/78.0 MB 6.7 MB/s eta 0:00:11\n",
      "     ----- --------------------------------- 10.8/78.0 MB 10.6 MB/s eta 0:00:07\n",
      "     ----- --------------------------------- 11.4/78.0 MB 11.5 MB/s eta 0:00:06\n",
      "     ------ -------------------------------- 12.3/78.0 MB 12.4 MB/s eta 0:00:06\n",
      "     ------ -------------------------------- 13.0/78.0 MB 13.1 MB/s eta 0:00:05\n",
      "     ------ -------------------------------- 13.5/78.0 MB 13.4 MB/s eta 0:00:05\n",
      "     ------- ------------------------------- 14.5/78.0 MB 14.2 MB/s eta 0:00:05\n",
      "     ------- ------------------------------- 14.7/78.0 MB 13.9 MB/s eta 0:00:05\n",
      "     ------- ------------------------------- 15.7/78.0 MB 14.2 MB/s eta 0:00:05\n",
      "     -------- ------------------------------ 16.4/78.0 MB 14.6 MB/s eta 0:00:05\n",
      "     -------- ------------------------------ 17.0/78.0 MB 14.6 MB/s eta 0:00:05\n",
      "     --------- ----------------------------- 18.4/78.0 MB 16.4 MB/s eta 0:00:04\n",
      "     --------- ----------------------------- 18.8/78.0 MB 16.0 MB/s eta 0:00:04\n",
      "     --------- ----------------------------- 20.0/78.0 MB 16.4 MB/s eta 0:00:04\n",
      "     ---------- ---------------------------- 21.0/78.0 MB 16.8 MB/s eta 0:00:04\n",
      "     ---------- ---------------------------- 21.4/78.0 MB 16.8 MB/s eta 0:00:04\n",
      "     ----------- --------------------------- 22.6/78.0 MB 16.8 MB/s eta 0:00:04\n",
      "     ----------- --------------------------- 23.4/78.0 MB 18.2 MB/s eta 0:00:03\n",
      "     ----------- --------------------------- 23.4/78.0 MB 18.2 MB/s eta 0:00:03\n",
      "     ------------ -------------------------- 24.9/78.0 MB 18.2 MB/s eta 0:00:03\n",
      "     ------------ -------------------------- 25.8/78.0 MB 18.2 MB/s eta 0:00:03\n",
      "     ------------- ------------------------- 26.4/78.0 MB 18.2 MB/s eta 0:00:03\n",
      "     ------------- ------------------------- 27.2/78.0 MB 18.2 MB/s eta 0:00:03\n",
      "     -------------- ------------------------ 28.4/78.0 MB 18.2 MB/s eta 0:00:03\n",
      "     -------------- ------------------------ 29.0/78.0 MB 18.2 MB/s eta 0:00:03\n",
      "     -------------- ------------------------ 29.5/78.0 MB 17.3 MB/s eta 0:00:03\n",
      "     --------------- ----------------------- 31.0/78.0 MB 18.2 MB/s eta 0:00:03\n",
      "     --------------- ----------------------- 31.7/78.0 MB 19.3 MB/s eta 0:00:03\n",
      "     ---------------- ---------------------- 32.7/78.0 MB 19.3 MB/s eta 0:00:03\n",
      "     ---------------- ---------------------- 33.7/78.0 MB 21.1 MB/s eta 0:00:03\n",
      "     ----------------- --------------------- 35.1/78.0 MB 20.5 MB/s eta 0:00:03\n",
      "     ----------------- --------------------- 35.8/78.0 MB 20.5 MB/s eta 0:00:03\n",
      "     ----------------- --------------------- 35.8/78.0 MB 20.5 MB/s eta 0:00:03\n",
      "     ------------------ -------------------- 37.0/78.0 MB 19.9 MB/s eta 0:00:03\n",
      "     ------------------ -------------------- 37.4/78.0 MB 18.2 MB/s eta 0:00:03\n",
      "     ------------------- ------------------- 38.5/78.0 MB 18.7 MB/s eta 0:00:03\n",
      "     ------------------- ------------------- 39.7/78.0 MB 21.1 MB/s eta 0:00:02\n",
      "     -------------------- ------------------ 40.7/78.0 MB 19.3 MB/s eta 0:00:02\n",
      "     -------------------- ------------------ 41.4/78.0 MB 19.2 MB/s eta 0:00:02\n",
      "     --------------------- ----------------- 42.8/78.0 MB 19.2 MB/s eta 0:00:02\n",
      "     --------------------- ----------------- 44.0/78.0 MB 20.5 MB/s eta 0:00:02\n",
      "     ---------------------- ---------------- 44.2/78.0 MB 18.7 MB/s eta 0:00:02\n",
      "     ---------------------- ---------------- 45.9/78.0 MB 19.2 MB/s eta 0:00:02\n",
      "     ----------------------- --------------- 47.1/78.0 MB 21.8 MB/s eta 0:00:02\n",
      "     ------------------------ -------------- 48.3/78.0 MB 22.6 MB/s eta 0:00:02\n",
      "     ------------------------ -------------- 48.4/78.0 MB 20.5 MB/s eta 0:00:02\n",
      "     ------------------------ -------------- 49.4/78.0 MB 20.5 MB/s eta 0:00:02\n",
      "     ------------------------- ------------- 50.1/78.0 MB 20.5 MB/s eta 0:00:02\n",
      "     ------------------------- ------------- 51.7/78.0 MB 21.9 MB/s eta 0:00:02\n",
      "     ------------------------- ------------- 51.8/78.0 MB 21.1 MB/s eta 0:00:02\n",
      "     ------------------------- ------------- 51.8/78.0 MB 21.1 MB/s eta 0:00:02\n",
      "     ------------------------- ------------- 51.9/78.0 MB 17.7 MB/s eta 0:00:02\n",
      "     -------------------------- ------------ 53.3/78.0 MB 18.2 MB/s eta 0:00:02\n",
      "     --------------------------- ----------- 54.7/78.0 MB 18.2 MB/s eta 0:00:02\n",
      "     --------------------------- ----------- 56.0/78.0 MB 17.7 MB/s eta 0:00:02\n",
      "     ---------------------------- ---------- 56.9/78.0 MB 17.7 MB/s eta 0:00:02\n",
      "     ---------------------------- ---------- 57.4/78.0 MB 17.2 MB/s eta 0:00:02\n",
      "     ----------------------------- --------- 58.3/78.0 MB 16.4 MB/s eta 0:00:02\n",
      "     ------------------------------ -------- 60.1/78.0 MB 19.9 MB/s eta 0:00:01\n",
      "     ------------------------------ -------- 61.1/78.0 MB 19.3 MB/s eta 0:00:01\n",
      "     ------------------------------ -------- 61.3/78.0 MB 18.2 MB/s eta 0:00:01\n",
      "     ------------------------------- ------- 62.8/78.0 MB 24.2 MB/s eta 0:00:01\n",
      "     ------------------------------- ------- 63.4/78.0 MB 22.6 MB/s eta 0:00:01\n",
      "     -------------------------------- ------ 64.4/78.0 MB 21.1 MB/s eta 0:00:01\n",
      "     -------------------------------- ------ 65.6/78.0 MB 20.5 MB/s eta 0:00:01\n",
      "     --------------------------------- ----- 67.4/78.0 MB 23.4 MB/s eta 0:00:01\n",
      "     ---------------------------------- ---- 68.4/78.0 MB 25.1 MB/s eta 0:00:01\n",
      "     ---------------------------------- ---- 69.3/78.0 MB 22.6 MB/s eta 0:00:01\n",
      "     ----------------------------------- --- 70.3/78.0 MB 22.6 MB/s eta 0:00:01\n",
      "     ----------------------------------- --- 71.5/78.0 MB 24.2 MB/s eta 0:00:01\n",
      "     ------------------------------------ -- 72.8/78.0 MB 24.2 MB/s eta 0:00:01\n",
      "     ------------------------------------ -- 73.2/78.0 MB 23.4 MB/s eta 0:00:01\n",
      "     ------------------------------------- - 74.3/78.0 MB 24.2 MB/s eta 0:00:01\n",
      "     ------------------------------------- - 75.3/78.0 MB 24.2 MB/s eta 0:00:01\n",
      "     --------------------------------------  76.2/78.0 MB 22.5 MB/s eta 0:00:01\n",
      "     --------------------------------------  76.9/78.0 MB 21.1 MB/s eta 0:00:01\n",
      "     --------------------------------------  77.5/78.0 MB 19.9 MB/s eta 0:00:01\n",
      "     --------------------------------------  78.0/78.0 MB 20.5 MB/s eta 0:00:01\n",
      "     --------------------------------------  78.0/78.0 MB 20.5 MB/s eta 0:00:01\n",
      "     --------------------------------------  78.0/78.0 MB 20.5 MB/s eta 0:00:01\n",
      "     --------------------------------------- 78.0/78.0 MB 14.5 MB/s eta 0:00:00\n",
      "Requirement already satisfied: spacy<3.6.0,>=3.5.0 in c:\\users\\a4022\\anaconda3\\envs\\gpu\\lib\\site-packages (from zh-core-web-md==3.5.0) (3.5.3)\n",
      "Requirement already satisfied: spacy-pkuseg<0.1.0,>=0.0.27 in c:\\users\\a4022\\anaconda3\\envs\\gpu\\lib\\site-packages (from zh-core-web-md==3.5.0) (0.0.33)\n",
      "Requirement already satisfied: spacy-legacy<3.1.0,>=3.0.11 in c:\\users\\a4022\\anaconda3\\envs\\gpu\\lib\\site-packages (from spacy<3.6.0,>=3.5.0->zh-core-web-md==3.5.0) (3.0.12)\n",
      "Requirement already satisfied: spacy-loggers<2.0.0,>=1.0.0 in c:\\users\\a4022\\anaconda3\\envs\\gpu\\lib\\site-packages (from spacy<3.6.0,>=3.5.0->zh-core-web-md==3.5.0) (1.0.5)\n",
      "Requirement already satisfied: murmurhash<1.1.0,>=0.28.0 in c:\\users\\a4022\\anaconda3\\envs\\gpu\\lib\\site-packages (from spacy<3.6.0,>=3.5.0->zh-core-web-md==3.5.0) (1.0.7)\n",
      "Requirement already satisfied: cymem<2.1.0,>=2.0.2 in c:\\users\\a4022\\anaconda3\\envs\\gpu\\lib\\site-packages (from spacy<3.6.0,>=3.5.0->zh-core-web-md==3.5.0) (2.0.6)\n",
      "Requirement already satisfied: preshed<3.1.0,>=3.0.2 in c:\\users\\a4022\\anaconda3\\envs\\gpu\\lib\\site-packages (from spacy<3.6.0,>=3.5.0->zh-core-web-md==3.5.0) (3.0.6)\n",
      "Requirement already satisfied: thinc<8.2.0,>=8.1.8 in c:\\users\\a4022\\anaconda3\\envs\\gpu\\lib\\site-packages (from spacy<3.6.0,>=3.5.0->zh-core-web-md==3.5.0) (8.1.10)\n",
      "Requirement already satisfied: wasabi<1.2.0,>=0.9.1 in c:\\users\\a4022\\anaconda3\\envs\\gpu\\lib\\site-packages (from spacy<3.6.0,>=3.5.0->zh-core-web-md==3.5.0) (1.1.2)\n",
      "Requirement already satisfied: srsly<3.0.0,>=2.4.3 in c:\\users\\a4022\\anaconda3\\envs\\gpu\\lib\\site-packages (from spacy<3.6.0,>=3.5.0->zh-core-web-md==3.5.0) (2.4.6)\n",
      "Requirement already satisfied: catalogue<2.1.0,>=2.0.6 in c:\\users\\a4022\\anaconda3\\envs\\gpu\\lib\\site-packages (from spacy<3.6.0,>=3.5.0->zh-core-web-md==3.5.0) (2.0.10)\n",
      "Requirement already satisfied: typer<0.8.0,>=0.3.0 in c:\\users\\a4022\\anaconda3\\envs\\gpu\\lib\\site-packages (from spacy<3.6.0,>=3.5.0->zh-core-web-md==3.5.0) (0.4.2)\n",
      "Requirement already satisfied: pathy>=0.10.0 in c:\\users\\a4022\\anaconda3\\envs\\gpu\\lib\\site-packages (from spacy<3.6.0,>=3.5.0->zh-core-web-md==3.5.0) (0.10.1)\n",
      "Requirement already satisfied: smart-open<7.0.0,>=5.2.1 in c:\\users\\a4022\\anaconda3\\envs\\gpu\\lib\\site-packages (from spacy<3.6.0,>=3.5.0->zh-core-web-md==3.5.0) (6.4.0)\n",
      "Requirement already satisfied: tqdm<5.0.0,>=4.38.0 in c:\\users\\a4022\\anaconda3\\envs\\gpu\\lib\\site-packages (from spacy<3.6.0,>=3.5.0->zh-core-web-md==3.5.0) (4.65.0)\n",
      "Requirement already satisfied: numpy>=1.15.0 in c:\\users\\a4022\\anaconda3\\envs\\gpu\\lib\\site-packages (from spacy<3.6.0,>=3.5.0->zh-core-web-md==3.5.0) (1.26.0)\n",
      "Requirement already satisfied: requests<3.0.0,>=2.13.0 in c:\\users\\a4022\\anaconda3\\envs\\gpu\\lib\\site-packages (from spacy<3.6.0,>=3.5.0->zh-core-web-md==3.5.0) (2.31.0)\n",
      "Requirement already satisfied: pydantic!=1.8,!=1.8.1,<1.11.0,>=1.7.4 in c:\\users\\a4022\\anaconda3\\envs\\gpu\\lib\\site-packages (from spacy<3.6.0,>=3.5.0->zh-core-web-md==3.5.0) (1.10.12)\n",
      "Requirement already satisfied: jinja2 in c:\\users\\a4022\\anaconda3\\envs\\gpu\\lib\\site-packages (from spacy<3.6.0,>=3.5.0->zh-core-web-md==3.5.0) (3.1.2)\n",
      "Requirement already satisfied: setuptools in c:\\users\\a4022\\anaconda3\\envs\\gpu\\lib\\site-packages (from spacy<3.6.0,>=3.5.0->zh-core-web-md==3.5.0) (68.0.0)\n",
      "Requirement already satisfied: packaging>=20.0 in c:\\users\\a4022\\anaconda3\\envs\\gpu\\lib\\site-packages (from spacy<3.6.0,>=3.5.0->zh-core-web-md==3.5.0) (23.1)\n",
      "Requirement already satisfied: langcodes<4.0.0,>=3.2.0 in c:\\users\\a4022\\anaconda3\\envs\\gpu\\lib\\site-packages (from spacy<3.6.0,>=3.5.0->zh-core-web-md==3.5.0) (3.3.0)\n",
      "Requirement already satisfied: typing-extensions>=4.2.0 in c:\\users\\a4022\\anaconda3\\envs\\gpu\\lib\\site-packages (from pydantic!=1.8,!=1.8.1,<1.11.0,>=1.7.4->spacy<3.6.0,>=3.5.0->zh-core-web-md==3.5.0) (4.7.1)\n",
      "Requirement already satisfied: charset-normalizer<4,>=2 in c:\\users\\a4022\\anaconda3\\envs\\gpu\\lib\\site-packages (from requests<3.0.0,>=2.13.0->spacy<3.6.0,>=3.5.0->zh-core-web-md==3.5.0) (2.0.4)\n",
      "Requirement already satisfied: idna<4,>=2.5 in c:\\users\\a4022\\anaconda3\\envs\\gpu\\lib\\site-packages (from requests<3.0.0,>=2.13.0->spacy<3.6.0,>=3.5.0->zh-core-web-md==3.5.0) (3.4)\n",
      "Requirement already satisfied: urllib3<3,>=1.21.1 in c:\\users\\a4022\\anaconda3\\envs\\gpu\\lib\\site-packages (from requests<3.0.0,>=2.13.0->spacy<3.6.0,>=3.5.0->zh-core-web-md==3.5.0) (1.26.16)\n",
      "Requirement already satisfied: certifi>=2017.4.17 in c:\\users\\a4022\\anaconda3\\envs\\gpu\\lib\\site-packages (from requests<3.0.0,>=2.13.0->spacy<3.6.0,>=3.5.0->zh-core-web-md==3.5.0) (2023.7.22)\n",
      "Requirement already satisfied: blis<0.8.0,>=0.7.8 in c:\\users\\a4022\\anaconda3\\envs\\gpu\\lib\\site-packages (from thinc<8.2.0,>=8.1.8->spacy<3.6.0,>=3.5.0->zh-core-web-md==3.5.0) (0.7.9)\n",
      "Requirement already satisfied: confection<1.0.0,>=0.0.1 in c:\\users\\a4022\\anaconda3\\envs\\gpu\\lib\\site-packages (from thinc<8.2.0,>=8.1.8->spacy<3.6.0,>=3.5.0->zh-core-web-md==3.5.0) (0.1.3)\n",
      "Requirement already satisfied: colorama in c:\\users\\a4022\\anaconda3\\envs\\gpu\\lib\\site-packages (from tqdm<5.0.0,>=4.38.0->spacy<3.6.0,>=3.5.0->zh-core-web-md==3.5.0) (0.4.6)\n",
      "Requirement already satisfied: click<9.0.0,>=7.1.1 in c:\\users\\a4022\\anaconda3\\envs\\gpu\\lib\\site-packages (from typer<0.8.0,>=0.3.0->spacy<3.6.0,>=3.5.0->zh-core-web-md==3.5.0) (8.1.7)\n",
      "Requirement already satisfied: MarkupSafe>=2.0 in c:\\users\\a4022\\anaconda3\\envs\\gpu\\lib\\site-packages (from jinja2->spacy<3.6.0,>=3.5.0->zh-core-web-md==3.5.0) (2.1.1)\n",
      "Installing collected packages: zh-core-web-md\n",
      "Successfully installed zh-core-web-md-3.5.0\n",
      "\u001b[38;5;2m[+] Download and installation successful\u001b[0m\n",
      "You can now load the package via spacy.load('zh_core_web_md')\n"
     ]
    }
   ],
   "source": [
    "!python -m spacy download zh_core_web_md"
   ]
  },
  {
   "cell_type": "code",
   "execution_count": 1,
   "id": "d78c7141-fc96-429b-a068-7daa3432d45c",
   "metadata": {
    "tags": []
   },
   "outputs": [],
   "source": [
    "import spacy"
   ]
  },
  {
   "cell_type": "code",
   "execution_count": 5,
   "id": "3beea837-d861-425c-be83-9808175dd8ec",
   "metadata": {
    "tags": []
   },
   "outputs": [],
   "source": [
    "# 載入詞向量模型\n",
    "nlp = spacy.load(\"en_core_web_sm\")"
   ]
  },
  {
   "cell_type": "code",
   "execution_count": 6,
   "id": "ce702b5e-a55c-4f66-b2e7-c8745c573dc9",
   "metadata": {
    "tags": []
   },
   "outputs": [
    {
     "name": "stdout",
     "output_type": "stream",
     "text": [
      "Apple PROPN nsubj\n",
      "is AUX aux\n",
      "looking VERB ROOT\n",
      "at ADP prep\n",
      "buying VERB pcomp\n",
      "U.K. PROPN dobj\n",
      "startup NOUN dep\n",
      "for ADP prep\n",
      "$ SYM quantmod\n",
      "1 NUM compound\n",
      "billion NUM pobj\n"
     ]
    }
   ],
   "source": [
    "# 分詞及取得詞性標籤(POS Tagging)\n",
    "doc = nlp(\"Apple is looking at buying U.K. startup for $1 billion\")\n",
    "for token in doc:\n",
    "    print(token.text, token.pos_, token.dep_)"
   ]
  },
  {
   "cell_type": "code",
   "execution_count": 8,
   "id": "31d79e66-c67a-4d34-bcff-5134f9082232",
   "metadata": {
    "tags": []
   },
   "outputs": [
    {
     "data": {
      "text/plain": [
       "spacy.tokens.doc.Doc"
      ]
     },
     "execution_count": 8,
     "metadata": {},
     "output_type": "execute_result"
    }
   ],
   "source": [
    "type(doc)"
   ]
  },
  {
   "cell_type": "code",
   "execution_count": 9,
   "id": "ef3bce89-e652-45e5-ac83-55015664b68e",
   "metadata": {
    "scrolled": true,
    "tags": []
   },
   "outputs": [
    {
     "data": {
      "text/plain": [
       "\u001b[1;31mType:\u001b[0m           Doc\n",
       "\u001b[1;31mString form:\u001b[0m    Apple is looking at buying U.K. startup for $1 billion\n",
       "\u001b[1;31mLength:\u001b[0m         11\n",
       "\u001b[1;31mFile:\u001b[0m           c:\\users\\a4022\\anaconda3\\envs\\gpu\\lib\\site-packages\\spacy\\tokens\\doc.cp39-win_amd64.pyd\n",
       "\u001b[1;31mDocstring:\u001b[0m     \n",
       "Doc(Vocab vocab, words=None, spaces=None, user_data=None, *, tags=None, pos=None, morphs=None, lemmas=None, heads=None, deps=None, sent_starts=None, ents=None)\n",
       "A sequence of Token objects. Access sentences and named entities, export\n",
       "    annotations to numpy arrays, losslessly serialize to compressed binary\n",
       "    strings. The `Doc` object holds an array of `TokenC` structs. The\n",
       "    Python-level `Token` and `Span` objects are views of this array, i.e.\n",
       "    they don't own the data themselves.\n",
       "\n",
       "    EXAMPLE:\n",
       "        Construction 1\n",
       "        >>> doc = nlp(u'Some text')\n",
       "\n",
       "        Construction 2\n",
       "        >>> from spacy.tokens import Doc\n",
       "        >>> doc = Doc(nlp.vocab, words=[\"hello\", \"world\", \"!\"], spaces=[True, False, False])\n",
       "\n",
       "    DOCS: https://spacy.io/api/doc\n",
       "    \n",
       "\u001b[1;31mInit docstring:\u001b[0m\n",
       "Create a Doc object.\n",
       "\n",
       "vocab (Vocab): A vocabulary object, which must match any models you\n",
       "    want to use (e.g. tokenizer, parser, entity recognizer).\n",
       "words (Optional[List[Union[str, int]]]): A list of unicode strings or\n",
       "    hash values to add to the document as words. If `None`, defaults to\n",
       "    empty list.\n",
       "spaces (Optional[List[bool]]): A list of boolean values, of the same\n",
       "    length as `words`. `True` means that the word is followed by a space,\n",
       "    `False` means it is not. If `None`, defaults to `[True]*len(words)`\n",
       "user_data (dict or None): Optional extra data to attach to the Doc.\n",
       "tags (Optional[List[str]]): A list of unicode strings, of the same\n",
       "    length as words, to assign as token.tag. Defaults to None.\n",
       "pos (Optional[List[str]]): A list of unicode strings, of the same\n",
       "    length as words, to assign as token.pos. Defaults to None.\n",
       "morphs (Optional[List[str]]): A list of unicode strings, of the same\n",
       "    length as words, to assign as token.morph. Defaults to None.\n",
       "lemmas (Optional[List[str]]): A list of unicode strings, of the same\n",
       "    length as words, to assign as token.lemma. Defaults to None.\n",
       "heads (Optional[List[int]]): A list of values, of the same length as\n",
       "    words, to assign as heads. Head indices are the position of the\n",
       "    head in the doc. Defaults to None.\n",
       "deps (Optional[List[str]]): A list of unicode strings, of the same\n",
       "    length as words, to assign as token.dep. Defaults to None.\n",
       "sent_starts (Optional[List[Union[bool, int, None]]]): A list of values, \n",
       "    of the same length as words, to assign as token.is_sent_start. Will \n",
       "    be overridden by heads if heads is provided. Defaults to None.\n",
       "ents (Optional[List[str]]): A list of unicode strings, of the same\n",
       "    length as words, as IOB tags to assign as token.ent_iob and\n",
       "    token.ent_type. Defaults to None.\n",
       "\n",
       "DOCS: https://spacy.io/api/doc#init"
      ]
     },
     "metadata": {},
     "output_type": "display_data"
    }
   ],
   "source": [
    "doc?"
   ]
  },
  {
   "cell_type": "code",
   "execution_count": 10,
   "id": "4e18d651-900f-4ee1-a9ea-a2fcfc807968",
   "metadata": {
    "tags": []
   },
   "outputs": [
    {
     "name": "stdout",
     "output_type": "stream",
     "text": [
      "Apple Apple PROPN NNP nsubj Xxxxx True False\n",
      "is be AUX VBZ aux xx True True\n",
      "looking look VERB VBG ROOT xxxx True False\n",
      "at at ADP IN prep xx True True\n",
      "buying buy VERB VBG pcomp xxxx True False\n",
      "U.K. U.K. PROPN NNP dobj X.X. False False\n",
      "startup startup NOUN NN dep xxxx True False\n",
      "for for ADP IN prep xxx True True\n",
      "$ $ SYM $ quantmod $ False False\n",
      "1 1 NUM CD compound d False False\n",
      "billion billion NUM CD pobj xxxx True False\n"
     ]
    }
   ],
   "source": [
    "# 取得詳細的詞性標籤(POS Tagging)\n",
    "for token in doc:\n",
    "    print(token.text, token.lemma_, token.pos_, token.tag_, token.dep_,\n",
    "            token.shape_, token.is_alpha, token.is_stop)"
   ]
  },
  {
   "cell_type": "code",
   "execution_count": 12,
   "id": "713c81ee-641d-42b0-a1bc-1b7a3c22d9e8",
   "metadata": {
    "tags": []
   },
   "outputs": [
    {
     "data": {
      "text/html": [
       "<span class=\"tex2jax_ignore\"><!DOCTYPE html>\n",
       "<html lang=\"en\">\n",
       "    <head>\n",
       "        <title>displaCy</title>\n",
       "    </head>\n",
       "\n",
       "    <body style=\"font-size: 16px; font-family: -apple-system, BlinkMacSystemFont, 'Segoe UI', Helvetica, Arial, sans-serif, 'Apple Color Emoji', 'Segoe UI Emoji', 'Segoe UI Symbol'; padding: 4rem 2rem; direction: ltr\">\n",
       "<figure style=\"margin-bottom: 6rem\">\n",
       "<svg xmlns=\"http://www.w3.org/2000/svg\" xmlns:xlink=\"http://www.w3.org/1999/xlink\" xml:lang=\"en\" id=\"1de6b44ea03a4d59b5cbfc1eb080bbdb-0\" class=\"displacy\" width=\"1975\" height=\"399.5\" direction=\"ltr\" style=\"max-width: none; height: 399.5px; color: #000000; background: #ffffff; font-family: Arial; direction: ltr\">\n",
       "<text class=\"displacy-token\" fill=\"currentColor\" text-anchor=\"middle\" y=\"309.5\">\n",
       "    <tspan class=\"displacy-word\" fill=\"currentColor\" x=\"50\">Apple</tspan>\n",
       "    <tspan class=\"displacy-tag\" dy=\"2em\" fill=\"currentColor\" x=\"50\">PROPN</tspan>\n",
       "</text>\n",
       "\n",
       "<text class=\"displacy-token\" fill=\"currentColor\" text-anchor=\"middle\" y=\"309.5\">\n",
       "    <tspan class=\"displacy-word\" fill=\"currentColor\" x=\"225\">is</tspan>\n",
       "    <tspan class=\"displacy-tag\" dy=\"2em\" fill=\"currentColor\" x=\"225\">AUX</tspan>\n",
       "</text>\n",
       "\n",
       "<text class=\"displacy-token\" fill=\"currentColor\" text-anchor=\"middle\" y=\"309.5\">\n",
       "    <tspan class=\"displacy-word\" fill=\"currentColor\" x=\"400\">looking</tspan>\n",
       "    <tspan class=\"displacy-tag\" dy=\"2em\" fill=\"currentColor\" x=\"400\">VERB</tspan>\n",
       "</text>\n",
       "\n",
       "<text class=\"displacy-token\" fill=\"currentColor\" text-anchor=\"middle\" y=\"309.5\">\n",
       "    <tspan class=\"displacy-word\" fill=\"currentColor\" x=\"575\">at</tspan>\n",
       "    <tspan class=\"displacy-tag\" dy=\"2em\" fill=\"currentColor\" x=\"575\">ADP</tspan>\n",
       "</text>\n",
       "\n",
       "<text class=\"displacy-token\" fill=\"currentColor\" text-anchor=\"middle\" y=\"309.5\">\n",
       "    <tspan class=\"displacy-word\" fill=\"currentColor\" x=\"750\">buying</tspan>\n",
       "    <tspan class=\"displacy-tag\" dy=\"2em\" fill=\"currentColor\" x=\"750\">VERB</tspan>\n",
       "</text>\n",
       "\n",
       "<text class=\"displacy-token\" fill=\"currentColor\" text-anchor=\"middle\" y=\"309.5\">\n",
       "    <tspan class=\"displacy-word\" fill=\"currentColor\" x=\"925\">U.K.</tspan>\n",
       "    <tspan class=\"displacy-tag\" dy=\"2em\" fill=\"currentColor\" x=\"925\">PROPN</tspan>\n",
       "</text>\n",
       "\n",
       "<text class=\"displacy-token\" fill=\"currentColor\" text-anchor=\"middle\" y=\"309.5\">\n",
       "    <tspan class=\"displacy-word\" fill=\"currentColor\" x=\"1100\">startup</tspan>\n",
       "    <tspan class=\"displacy-tag\" dy=\"2em\" fill=\"currentColor\" x=\"1100\">NOUN</tspan>\n",
       "</text>\n",
       "\n",
       "<text class=\"displacy-token\" fill=\"currentColor\" text-anchor=\"middle\" y=\"309.5\">\n",
       "    <tspan class=\"displacy-word\" fill=\"currentColor\" x=\"1275\">for</tspan>\n",
       "    <tspan class=\"displacy-tag\" dy=\"2em\" fill=\"currentColor\" x=\"1275\">ADP</tspan>\n",
       "</text>\n",
       "\n",
       "<text class=\"displacy-token\" fill=\"currentColor\" text-anchor=\"middle\" y=\"309.5\">\n",
       "    <tspan class=\"displacy-word\" fill=\"currentColor\" x=\"1450\">$</tspan>\n",
       "    <tspan class=\"displacy-tag\" dy=\"2em\" fill=\"currentColor\" x=\"1450\">SYM</tspan>\n",
       "</text>\n",
       "\n",
       "<text class=\"displacy-token\" fill=\"currentColor\" text-anchor=\"middle\" y=\"309.5\">\n",
       "    <tspan class=\"displacy-word\" fill=\"currentColor\" x=\"1625\">1</tspan>\n",
       "    <tspan class=\"displacy-tag\" dy=\"2em\" fill=\"currentColor\" x=\"1625\">NUM</tspan>\n",
       "</text>\n",
       "\n",
       "<text class=\"displacy-token\" fill=\"currentColor\" text-anchor=\"middle\" y=\"309.5\">\n",
       "    <tspan class=\"displacy-word\" fill=\"currentColor\" x=\"1800\">billion</tspan>\n",
       "    <tspan class=\"displacy-tag\" dy=\"2em\" fill=\"currentColor\" x=\"1800\">NUM</tspan>\n",
       "</text>\n",
       "\n",
       "<g class=\"displacy-arrow\">\n",
       "    <path class=\"displacy-arc\" id=\"arrow-1de6b44ea03a4d59b5cbfc1eb080bbdb-0-0\" stroke-width=\"2px\" d=\"M70,264.5 C70,89.5 395.0,89.5 395.0,264.5\" fill=\"none\" stroke=\"currentColor\"/>\n",
       "    <text dy=\"1.25em\" style=\"font-size: 0.8em; letter-spacing: 1px\">\n",
       "        <textPath xlink:href=\"#arrow-1de6b44ea03a4d59b5cbfc1eb080bbdb-0-0\" class=\"displacy-label\" startOffset=\"50%\" side=\"left\" fill=\"currentColor\" text-anchor=\"middle\">nsubj</textPath>\n",
       "    </text>\n",
       "    <path class=\"displacy-arrowhead\" d=\"M70,266.5 L62,254.5 78,254.5\" fill=\"currentColor\"/>\n",
       "</g>\n",
       "\n",
       "<g class=\"displacy-arrow\">\n",
       "    <path class=\"displacy-arc\" id=\"arrow-1de6b44ea03a4d59b5cbfc1eb080bbdb-0-1\" stroke-width=\"2px\" d=\"M245,264.5 C245,177.0 390.0,177.0 390.0,264.5\" fill=\"none\" stroke=\"currentColor\"/>\n",
       "    <text dy=\"1.25em\" style=\"font-size: 0.8em; letter-spacing: 1px\">\n",
       "        <textPath xlink:href=\"#arrow-1de6b44ea03a4d59b5cbfc1eb080bbdb-0-1\" class=\"displacy-label\" startOffset=\"50%\" side=\"left\" fill=\"currentColor\" text-anchor=\"middle\">aux</textPath>\n",
       "    </text>\n",
       "    <path class=\"displacy-arrowhead\" d=\"M245,266.5 L237,254.5 253,254.5\" fill=\"currentColor\"/>\n",
       "</g>\n",
       "\n",
       "<g class=\"displacy-arrow\">\n",
       "    <path class=\"displacy-arc\" id=\"arrow-1de6b44ea03a4d59b5cbfc1eb080bbdb-0-2\" stroke-width=\"2px\" d=\"M420,264.5 C420,177.0 565.0,177.0 565.0,264.5\" fill=\"none\" stroke=\"currentColor\"/>\n",
       "    <text dy=\"1.25em\" style=\"font-size: 0.8em; letter-spacing: 1px\">\n",
       "        <textPath xlink:href=\"#arrow-1de6b44ea03a4d59b5cbfc1eb080bbdb-0-2\" class=\"displacy-label\" startOffset=\"50%\" side=\"left\" fill=\"currentColor\" text-anchor=\"middle\">prep</textPath>\n",
       "    </text>\n",
       "    <path class=\"displacy-arrowhead\" d=\"M565.0,266.5 L573.0,254.5 557.0,254.5\" fill=\"currentColor\"/>\n",
       "</g>\n",
       "\n",
       "<g class=\"displacy-arrow\">\n",
       "    <path class=\"displacy-arc\" id=\"arrow-1de6b44ea03a4d59b5cbfc1eb080bbdb-0-3\" stroke-width=\"2px\" d=\"M595,264.5 C595,177.0 740.0,177.0 740.0,264.5\" fill=\"none\" stroke=\"currentColor\"/>\n",
       "    <text dy=\"1.25em\" style=\"font-size: 0.8em; letter-spacing: 1px\">\n",
       "        <textPath xlink:href=\"#arrow-1de6b44ea03a4d59b5cbfc1eb080bbdb-0-3\" class=\"displacy-label\" startOffset=\"50%\" side=\"left\" fill=\"currentColor\" text-anchor=\"middle\">pcomp</textPath>\n",
       "    </text>\n",
       "    <path class=\"displacy-arrowhead\" d=\"M740.0,266.5 L748.0,254.5 732.0,254.5\" fill=\"currentColor\"/>\n",
       "</g>\n",
       "\n",
       "<g class=\"displacy-arrow\">\n",
       "    <path class=\"displacy-arc\" id=\"arrow-1de6b44ea03a4d59b5cbfc1eb080bbdb-0-4\" stroke-width=\"2px\" d=\"M770,264.5 C770,177.0 915.0,177.0 915.0,264.5\" fill=\"none\" stroke=\"currentColor\"/>\n",
       "    <text dy=\"1.25em\" style=\"font-size: 0.8em; letter-spacing: 1px\">\n",
       "        <textPath xlink:href=\"#arrow-1de6b44ea03a4d59b5cbfc1eb080bbdb-0-4\" class=\"displacy-label\" startOffset=\"50%\" side=\"left\" fill=\"currentColor\" text-anchor=\"middle\">dobj</textPath>\n",
       "    </text>\n",
       "    <path class=\"displacy-arrowhead\" d=\"M915.0,266.5 L923.0,254.5 907.0,254.5\" fill=\"currentColor\"/>\n",
       "</g>\n",
       "\n",
       "<g class=\"displacy-arrow\">\n",
       "    <path class=\"displacy-arc\" id=\"arrow-1de6b44ea03a4d59b5cbfc1eb080bbdb-0-5\" stroke-width=\"2px\" d=\"M420,264.5 C420,89.5 1095.0,89.5 1095.0,264.5\" fill=\"none\" stroke=\"currentColor\"/>\n",
       "    <text dy=\"1.25em\" style=\"font-size: 0.8em; letter-spacing: 1px\">\n",
       "        <textPath xlink:href=\"#arrow-1de6b44ea03a4d59b5cbfc1eb080bbdb-0-5\" class=\"displacy-label\" startOffset=\"50%\" side=\"left\" fill=\"currentColor\" text-anchor=\"middle\">dep</textPath>\n",
       "    </text>\n",
       "    <path class=\"displacy-arrowhead\" d=\"M1095.0,266.5 L1103.0,254.5 1087.0,254.5\" fill=\"currentColor\"/>\n",
       "</g>\n",
       "\n",
       "<g class=\"displacy-arrow\">\n",
       "    <path class=\"displacy-arc\" id=\"arrow-1de6b44ea03a4d59b5cbfc1eb080bbdb-0-6\" stroke-width=\"2px\" d=\"M1120,264.5 C1120,177.0 1265.0,177.0 1265.0,264.5\" fill=\"none\" stroke=\"currentColor\"/>\n",
       "    <text dy=\"1.25em\" style=\"font-size: 0.8em; letter-spacing: 1px\">\n",
       "        <textPath xlink:href=\"#arrow-1de6b44ea03a4d59b5cbfc1eb080bbdb-0-6\" class=\"displacy-label\" startOffset=\"50%\" side=\"left\" fill=\"currentColor\" text-anchor=\"middle\">prep</textPath>\n",
       "    </text>\n",
       "    <path class=\"displacy-arrowhead\" d=\"M1265.0,266.5 L1273.0,254.5 1257.0,254.5\" fill=\"currentColor\"/>\n",
       "</g>\n",
       "\n",
       "<g class=\"displacy-arrow\">\n",
       "    <path class=\"displacy-arc\" id=\"arrow-1de6b44ea03a4d59b5cbfc1eb080bbdb-0-7\" stroke-width=\"2px\" d=\"M1470,264.5 C1470,89.5 1795.0,89.5 1795.0,264.5\" fill=\"none\" stroke=\"currentColor\"/>\n",
       "    <text dy=\"1.25em\" style=\"font-size: 0.8em; letter-spacing: 1px\">\n",
       "        <textPath xlink:href=\"#arrow-1de6b44ea03a4d59b5cbfc1eb080bbdb-0-7\" class=\"displacy-label\" startOffset=\"50%\" side=\"left\" fill=\"currentColor\" text-anchor=\"middle\">quantmod</textPath>\n",
       "    </text>\n",
       "    <path class=\"displacy-arrowhead\" d=\"M1470,266.5 L1462,254.5 1478,254.5\" fill=\"currentColor\"/>\n",
       "</g>\n",
       "\n",
       "<g class=\"displacy-arrow\">\n",
       "    <path class=\"displacy-arc\" id=\"arrow-1de6b44ea03a4d59b5cbfc1eb080bbdb-0-8\" stroke-width=\"2px\" d=\"M1645,264.5 C1645,177.0 1790.0,177.0 1790.0,264.5\" fill=\"none\" stroke=\"currentColor\"/>\n",
       "    <text dy=\"1.25em\" style=\"font-size: 0.8em; letter-spacing: 1px\">\n",
       "        <textPath xlink:href=\"#arrow-1de6b44ea03a4d59b5cbfc1eb080bbdb-0-8\" class=\"displacy-label\" startOffset=\"50%\" side=\"left\" fill=\"currentColor\" text-anchor=\"middle\">compound</textPath>\n",
       "    </text>\n",
       "    <path class=\"displacy-arrowhead\" d=\"M1645,266.5 L1637,254.5 1653,254.5\" fill=\"currentColor\"/>\n",
       "</g>\n",
       "\n",
       "<g class=\"displacy-arrow\">\n",
       "    <path class=\"displacy-arc\" id=\"arrow-1de6b44ea03a4d59b5cbfc1eb080bbdb-0-9\" stroke-width=\"2px\" d=\"M1295,264.5 C1295,2.0 1800.0,2.0 1800.0,264.5\" fill=\"none\" stroke=\"currentColor\"/>\n",
       "    <text dy=\"1.25em\" style=\"font-size: 0.8em; letter-spacing: 1px\">\n",
       "        <textPath xlink:href=\"#arrow-1de6b44ea03a4d59b5cbfc1eb080bbdb-0-9\" class=\"displacy-label\" startOffset=\"50%\" side=\"left\" fill=\"currentColor\" text-anchor=\"middle\">pobj</textPath>\n",
       "    </text>\n",
       "    <path class=\"displacy-arrowhead\" d=\"M1800.0,266.5 L1808.0,254.5 1792.0,254.5\" fill=\"currentColor\"/>\n",
       "</g>\n",
       "</svg>\n",
       "</figure>\n",
       "</body>\n",
       "</html></span>"
      ],
      "text/plain": [
       "<IPython.core.display.HTML object>"
      ]
     },
     "metadata": {},
     "output_type": "display_data"
    },
    {
     "name": "stdout",
     "output_type": "stream",
     "text": [
      "\n",
      "Using the 'dep' visualizer\n",
      "Serving on http://0.0.0.0:5000 ...\n",
      "\n",
      "Shutting down server on port 5000.\n"
     ]
    }
   ],
   "source": [
    "# 顯示語意分析圖\n",
    "from spacy import displacy\n",
    "\n",
    "displacy.serve(doc, style=\"dep\")"
   ]
  },
  {
   "cell_type": "code",
   "execution_count": 21,
   "id": "ce3ad716-dfa2-4d3f-855b-2c99678ed40f",
   "metadata": {
    "tags": []
   },
   "outputs": [
    {
     "data": {
      "text/html": [
       "<span class=\"tex2jax_ignore\"><!DOCTYPE html>\n",
       "<html lang=\"en\">\n",
       "    <head>\n",
       "        <title>displaCy</title>\n",
       "    </head>\n",
       "\n",
       "    <body style=\"font-size: 16px; font-family: -apple-system, BlinkMacSystemFont, 'Segoe UI', Helvetica, Arial, sans-serif, 'Apple Color Emoji', 'Segoe UI Emoji', 'Segoe UI Symbol'; padding: 4rem 2rem; direction: ltr\">\n",
       "<figure style=\"margin-bottom: 6rem\">\n",
       "<div class=\"entities\" style=\"line-height: 2.5; direction: ltr\">When \n",
       "<mark class=\"entity\" style=\"background: #aa9cfc; padding: 0.45em 0.6em; margin: 0 0.25em; line-height: 1; border-radius: 0.35em;\">\n",
       "    Sebastian Thrun\n",
       "    <span style=\"font-size: 0.8em; font-weight: bold; line-height: 1; border-radius: 0.35em; vertical-align: middle; margin-left: 0.5rem\">PERSON</span>\n",
       "</mark>\n",
       " started working on self-driving cars at \n",
       "<mark class=\"entity\" style=\"background: #7aecec; padding: 0.45em 0.6em; margin: 0 0.25em; line-height: 1; border-radius: 0.35em;\">\n",
       "    Google\n",
       "    <span style=\"font-size: 0.8em; font-weight: bold; line-height: 1; border-radius: 0.35em; vertical-align: middle; margin-left: 0.5rem\">ORG</span>\n",
       "</mark>\n",
       " in \n",
       "<mark class=\"entity\" style=\"background: #bfe1d9; padding: 0.45em 0.6em; margin: 0 0.25em; line-height: 1; border-radius: 0.35em;\">\n",
       "    2007\n",
       "    <span style=\"font-size: 0.8em; font-weight: bold; line-height: 1; border-radius: 0.35em; vertical-align: middle; margin-left: 0.5rem\">DATE</span>\n",
       "</mark>\n",
       ", few people outside of the company took him seriously.</div>\n",
       "</figure>\n",
       "</body>\n",
       "</html></span>"
      ],
      "text/plain": [
       "<IPython.core.display.HTML object>"
      ]
     },
     "metadata": {},
     "output_type": "display_data"
    },
    {
     "name": "stdout",
     "output_type": "stream",
     "text": [
      "\n",
      "Using the 'ent' visualizer\n",
      "Serving on http://0.0.0.0:5000 ...\n",
      "\n",
      "Shutting down server on port 5000.\n"
     ]
    }
   ],
   "source": [
    "# 標示實體\n",
    "text = \"When Sebastian Thrun started working on self-driving cars \" + \\\n",
    "       \"at Google in 2007, few people outside of the company took him seriously.\"\n",
    "\n",
    "doc = nlp(text)\n",
    "# style=\"ent\"：實體\n",
    "displacy.serve(doc, style=\"ent\")"
   ]
  },
  {
   "cell_type": "code",
   "execution_count": 22,
   "id": "0fa72b1a-e02c-4dea-8599-46738698feb2",
   "metadata": {
    "tags": []
   },
   "outputs": [
    {
     "name": "stdout",
     "output_type": "stream",
     "text": [
      "清華 NOUN nsubj\n",
      "大 ADV advmod\n",
      "學位 VERB ROOT\n",
      "於 VERB conj\n",
      "新竹 PROPN dobj\n"
     ]
    }
   ],
   "source": [
    "# 繁體中文分詞\n",
    "# 分詞不好:建議先使用簡體分詞，再轉為繁體\n",
    "import spacy\n",
    "\n",
    "nlp = spacy.load(\"zh_core_web_sm\")\n",
    "doc = nlp(\"清華大學位於新竹\")\n",
    "for token in doc:\n",
    "    print(token.text, token.pos_, token.dep_)"
   ]
  },
  {
   "cell_type": "code",
   "execution_count": 23,
   "id": "56f7541e-532e-4c2d-9d06-bc18e9f0842c",
   "metadata": {
    "tags": []
   },
   "outputs": [
    {
     "name": "stdout",
     "output_type": "stream",
     "text": [
      "清华 PROPN compound:nn\n",
      "大学 NOUN nsubj\n",
      "位于 VERB ROOT\n",
      "北京 PROPN dobj\n"
     ]
    }
   ],
   "source": [
    "# 簡體中文分詞\n",
    "import spacy\n",
    "\n",
    "nlp = spacy.load(\"zh_core_web_sm\")\n",
    "doc = nlp(\"清华大学位于北京\")\n",
    "for token in doc:\n",
    "    print(token.text, token.pos_, token.dep_)"
   ]
  },
  {
   "cell_type": "code",
   "execution_count": 24,
   "id": "83460183-15e0-48ce-b1f1-d465bca97b7d",
   "metadata": {
    "tags": []
   },
   "outputs": [
    {
     "data": {
      "text/html": [
       "<span class=\"tex2jax_ignore\"><!DOCTYPE html>\n",
       "<html lang=\"zh\">\n",
       "    <head>\n",
       "        <title>displaCy</title>\n",
       "    </head>\n",
       "\n",
       "    <body style=\"font-size: 16px; font-family: -apple-system, BlinkMacSystemFont, 'Segoe UI', Helvetica, Arial, sans-serif, 'Apple Color Emoji', 'Segoe UI Emoji', 'Segoe UI Symbol'; padding: 4rem 2rem; direction: ltr\">\n",
       "<figure style=\"margin-bottom: 6rem\">\n",
       "<svg xmlns=\"http://www.w3.org/2000/svg\" xmlns:xlink=\"http://www.w3.org/1999/xlink\" xml:lang=\"zh\" id=\"ff6f6062e27841558549ecae32275b33-0\" class=\"displacy\" width=\"750\" height=\"224.5\" direction=\"ltr\" style=\"max-width: none; height: 224.5px; color: #000000; background: #ffffff; font-family: Arial; direction: ltr\">\n",
       "<text class=\"displacy-token\" fill=\"currentColor\" text-anchor=\"middle\" y=\"134.5\">\n",
       "    <tspan class=\"displacy-word\" fill=\"currentColor\" x=\"50\">清华</tspan>\n",
       "    <tspan class=\"displacy-tag\" dy=\"2em\" fill=\"currentColor\" x=\"50\">PROPN</tspan>\n",
       "</text>\n",
       "\n",
       "<text class=\"displacy-token\" fill=\"currentColor\" text-anchor=\"middle\" y=\"134.5\">\n",
       "    <tspan class=\"displacy-word\" fill=\"currentColor\" x=\"225\">大学</tspan>\n",
       "    <tspan class=\"displacy-tag\" dy=\"2em\" fill=\"currentColor\" x=\"225\">NOUN</tspan>\n",
       "</text>\n",
       "\n",
       "<text class=\"displacy-token\" fill=\"currentColor\" text-anchor=\"middle\" y=\"134.5\">\n",
       "    <tspan class=\"displacy-word\" fill=\"currentColor\" x=\"400\">位于</tspan>\n",
       "    <tspan class=\"displacy-tag\" dy=\"2em\" fill=\"currentColor\" x=\"400\">VERB</tspan>\n",
       "</text>\n",
       "\n",
       "<text class=\"displacy-token\" fill=\"currentColor\" text-anchor=\"middle\" y=\"134.5\">\n",
       "    <tspan class=\"displacy-word\" fill=\"currentColor\" x=\"575\">北京</tspan>\n",
       "    <tspan class=\"displacy-tag\" dy=\"2em\" fill=\"currentColor\" x=\"575\">PROPN</tspan>\n",
       "</text>\n",
       "\n",
       "<g class=\"displacy-arrow\">\n",
       "    <path class=\"displacy-arc\" id=\"arrow-ff6f6062e27841558549ecae32275b33-0-0\" stroke-width=\"2px\" d=\"M70,89.5 C70,2.0 225.0,2.0 225.0,89.5\" fill=\"none\" stroke=\"currentColor\"/>\n",
       "    <text dy=\"1.25em\" style=\"font-size: 0.8em; letter-spacing: 1px\">\n",
       "        <textPath xlink:href=\"#arrow-ff6f6062e27841558549ecae32275b33-0-0\" class=\"displacy-label\" startOffset=\"50%\" side=\"left\" fill=\"currentColor\" text-anchor=\"middle\">compound:nn</textPath>\n",
       "    </text>\n",
       "    <path class=\"displacy-arrowhead\" d=\"M70,91.5 L62,79.5 78,79.5\" fill=\"currentColor\"/>\n",
       "</g>\n",
       "\n",
       "<g class=\"displacy-arrow\">\n",
       "    <path class=\"displacy-arc\" id=\"arrow-ff6f6062e27841558549ecae32275b33-0-1\" stroke-width=\"2px\" d=\"M245,89.5 C245,2.0 400.0,2.0 400.0,89.5\" fill=\"none\" stroke=\"currentColor\"/>\n",
       "    <text dy=\"1.25em\" style=\"font-size: 0.8em; letter-spacing: 1px\">\n",
       "        <textPath xlink:href=\"#arrow-ff6f6062e27841558549ecae32275b33-0-1\" class=\"displacy-label\" startOffset=\"50%\" side=\"left\" fill=\"currentColor\" text-anchor=\"middle\">nsubj</textPath>\n",
       "    </text>\n",
       "    <path class=\"displacy-arrowhead\" d=\"M245,91.5 L237,79.5 253,79.5\" fill=\"currentColor\"/>\n",
       "</g>\n",
       "\n",
       "<g class=\"displacy-arrow\">\n",
       "    <path class=\"displacy-arc\" id=\"arrow-ff6f6062e27841558549ecae32275b33-0-2\" stroke-width=\"2px\" d=\"M420,89.5 C420,2.0 575.0,2.0 575.0,89.5\" fill=\"none\" stroke=\"currentColor\"/>\n",
       "    <text dy=\"1.25em\" style=\"font-size: 0.8em; letter-spacing: 1px\">\n",
       "        <textPath xlink:href=\"#arrow-ff6f6062e27841558549ecae32275b33-0-2\" class=\"displacy-label\" startOffset=\"50%\" side=\"left\" fill=\"currentColor\" text-anchor=\"middle\">dobj</textPath>\n",
       "    </text>\n",
       "    <path class=\"displacy-arrowhead\" d=\"M575.0,91.5 L583.0,79.5 567.0,79.5\" fill=\"currentColor\"/>\n",
       "</g>\n",
       "</svg>\n",
       "</figure>\n",
       "</body>\n",
       "</html></span>"
      ],
      "text/plain": [
       "<IPython.core.display.HTML object>"
      ]
     },
     "metadata": {},
     "output_type": "display_data"
    },
    {
     "name": "stdout",
     "output_type": "stream",
     "text": [
      "\n",
      "Using the 'dep' visualizer\n",
      "Serving on http://0.0.0.0:5000 ...\n",
      "\n",
      "Shutting down server on port 5000.\n"
     ]
    }
   ],
   "source": [
    "# 顯示中文語意分析圖\n",
    "from spacy import displacy\n",
    "\n",
    "displacy.serve(doc, style=\"dep\")"
   ]
  },
  {
   "cell_type": "code",
   "execution_count": 31,
   "id": "723646d9-748c-4de9-9ac0-a2d0df1755cd",
   "metadata": {
    "tags": []
   },
   "outputs": [
    {
     "name": "stdout",
     "output_type": "stream",
     "text": [
      "清华 PROPN compound:nn\n",
      "大学 NOUN nsubj\n",
      "位于 VERB ROOT\n",
      "北京 PROPN dobj\n"
     ]
    }
   ],
   "source": [
    "# 顯示依存關係\n",
    "nlp = spacy.load(\"zh_core_web_sm\")\n",
    "doc = nlp(\"清华大学位于北京\")\n",
    "for token in doc:\n",
    "    print(token.text, token.pos_, token.dep_)"
   ]
  },
  {
   "cell_type": "code",
   "execution_count": 27,
   "id": "c9e4b0b0-32be-461c-b025-e9a1f6a7d214",
   "metadata": {
    "tags": []
   },
   "outputs": [
    {
     "name": "stdout",
     "output_type": "stream",
     "text": [
      "dog True 6.814786 True\n",
      "cat True 7.370902 True\n",
      "banana True 7.64607 True\n",
      "afskfsd True 7.192255 True\n"
     ]
    }
   ],
   "source": [
    "# 分詞，並判斷是否不在字典中(Out of Vocabulary, OOV)\n",
    "nlp = spacy.load(\"en_core_web_sm\")\n",
    "tokens = nlp(\"dog cat banana afskfsd\")\n",
    "\n",
    "for token in tokens:\n",
    "    print(token.text, token.has_vector, token.vector_norm, token.is_oov)"
   ]
  },
  {
   "cell_type": "code",
   "execution_count": 30,
   "id": "f8103a9a-407e-4dae-b793-d89235ae8053",
   "metadata": {
    "tags": []
   },
   "outputs": [
    {
     "name": "stdout",
     "output_type": "stream",
     "text": [
      "dog True 75.254234 False\n",
      "cat True 63.188496 False\n",
      "banana True 31.620354 False\n",
      "afskfsd False 0.0 True\n"
     ]
    }
   ],
   "source": [
    "# 分詞，並判斷是否不在字典中(Out of Vocabulary, OOV)\n",
    "nlp = spacy.load(\"en_core_web_md\")\n",
    "tokens = nlp(\"dog cat banana afskfsd\")\n",
    "\n",
    "for token in tokens:\n",
    "    print(token.text, token.has_vector, token.vector_norm, token.is_oov)"
   ]
  },
  {
   "cell_type": "code",
   "execution_count": 34,
   "id": "7eb61d87-669c-4384-8c9e-6773bf2f3bc0",
   "metadata": {
    "tags": []
   },
   "outputs": [
    {
     "name": "stdout",
     "output_type": "stream",
     "text": [
      "I like salty fries and hamburgers. <-> Fast food tastes very good. 0.3676001209944622\n",
      "salty fries <-> hamburgers 0.4333884119987488\n"
     ]
    },
    {
     "name": "stderr",
     "output_type": "stream",
     "text": [
      "C:\\Users\\a4022\\AppData\\Local\\Temp\\ipykernel_30140\\3057673768.py:9: UserWarning: [W007] The model you're using has no word vectors loaded, so the result of the Doc.similarity method will be based on the tagger, parser and NER, which may not give useful similarity judgements. This may happen if you're using one of the small models, e.g. `en_core_web_sm`, which don't ship with word vectors and only use context-sensitive tensors. You can always add your own word vectors, or use one of the larger models instead if available.\n",
      "  print(doc1, \"<->\", doc2, doc1.similarity(doc2))\n",
      "C:\\Users\\a4022\\AppData\\Local\\Temp\\ipykernel_30140\\3057673768.py:14: UserWarning: [W007] The model you're using has no word vectors loaded, so the result of the Span.similarity method will be based on the tagger, parser and NER, which may not give useful similarity judgements. This may happen if you're using one of the small models, e.g. `en_core_web_sm`, which don't ship with word vectors and only use context-sensitive tensors. You can always add your own word vectors, or use one of the larger models instead if available.\n",
      "  print(french_fries, \"<->\", burgers, french_fries.similarity(burgers))\n"
     ]
    }
   ],
   "source": [
    "# 相似度比較\n",
    "nlp = spacy.load(\"en_core_web_sm\")\n",
    "\n",
    "# 測試兩語句\n",
    "doc1 = nlp(\"I like salty fries and hamburgers.\")\n",
    "doc2 = nlp(\"Fast food tastes very good.\")\n",
    "\n",
    "# 兩語句的相似度比較\n",
    "print(doc1, \"<->\", doc2, doc1.similarity(doc2))\n",
    "\n",
    "# 關鍵字的相似度比較\n",
    "french_fries = doc1[2:4]\n",
    "burgers = doc1[5]\n",
    "print(french_fries, \"<->\", burgers, french_fries.similarity(burgers))"
   ]
  },
  {
   "cell_type": "code",
   "execution_count": 33,
   "id": "3e951aa2-aa05-4609-af73-d451437bebf3",
   "metadata": {
    "tags": []
   },
   "outputs": [
    {
     "name": "stdout",
     "output_type": "stream",
     "text": [
      "I like salty fries and hamburgers. <-> Fast food tastes very good. 0.691649353055761\n",
      "salty fries <-> hamburgers 0.6938489079475403\n"
     ]
    }
   ],
   "source": [
    "# 相似度比較\n",
    "nlp = spacy.load(\"en_core_web_md\")\n",
    "\n",
    "# 測試兩語句\n",
    "doc1 = nlp(\"I like salty fries and hamburgers.\")\n",
    "doc2 = nlp(\"Fast food tastes very good.\")\n",
    "\n",
    "# 兩語句的相似度比較\n",
    "print(doc1, \"<->\", doc2, doc1.similarity(doc2))\n",
    "\n",
    "# 關鍵字的相似度比較\n",
    "french_fries = doc1[2:4]\n",
    "burgers = doc1[5]\n",
    "print(french_fries, \"<->\", burgers, french_fries.similarity(burgers))"
   ]
  },
  {
   "cell_type": "code",
   "execution_count": null,
   "id": "df5d9147-43c7-4a46-ac0f-6658e0ac726b",
   "metadata": {},
   "outputs": [],
   "source": []
  }
 ],
 "metadata": {
  "kernelspec": {
   "display_name": "gpu",
   "language": "python",
   "name": "gpu"
  },
  "language_info": {
   "codemirror_mode": {
    "name": "ipython",
    "version": 3
   },
   "file_extension": ".py",
   "mimetype": "text/x-python",
   "name": "python",
   "nbconvert_exporter": "python",
   "pygments_lexer": "ipython3",
   "version": "3.9.18"
  }
 },
 "nbformat": 4,
 "nbformat_minor": 5
}
